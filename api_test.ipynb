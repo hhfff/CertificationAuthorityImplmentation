{
 "cells": [
  {
   "cell_type": "code",
   "execution_count": 1,
   "metadata": {},
   "outputs": [],
   "source": [
    "import requests\n",
    "from cryptography.hazmat.primitives import serialization\n",
    "from cryptography.hazmat.primitives.asymmetric import rsa\n",
    "from CertificationAuthority import CertificationAuthority\n",
    "from cryptography import x509\n",
    "from cryptography.x509.oid import NameOID\n",
    "from cryptography.hazmat.primitives import hashes\n",
    "import util\n"
   ]
  },
  {
   "cell_type": "code",
   "execution_count": 2,
   "metadata": {},
   "outputs": [
    {
     "name": "stdout",
     "output_type": "stream",
     "text": [
      "applicant: client1.com\n",
      "issuer: ca1_1\n",
      "2021-11-24 05:27:03\n",
      "2021-12-04 05:27:03\n"
     ]
    }
   ],
   "source": [
    "#ca_root use port 8000\n",
    "#ca1 use port 8001\n",
    "#ca2 use port 8002\n",
    "#ca1_1 use port 8003\n",
    "#ca1_2 use port 8004\n",
    "\n",
    "# cleint 1 cert sign by root\n",
    "# 1. generate RSA key\n",
    "rsa_key=util.generate_ras_key()\n",
    "\n",
    "# 2. create certificate sign request and sign with client private key\n",
    "csr = x509.CertificateSigningRequestBuilder().subject_name(x509.Name([\n",
    "    # Provide various details about who we are.\n",
    "    x509.NameAttribute(NameOID.COUNTRY_NAME, u\"US\"),\n",
    "    x509.NameAttribute(NameOID.STATE_OR_PROVINCE_NAME, u\"California\"),\n",
    "    x509.NameAttribute(NameOID.LOCALITY_NAME, u\"San Francisco\"),\n",
    "    x509.NameAttribute(NameOID.ORGANIZATION_NAME, u\"My Company\"),\n",
    "    x509.NameAttribute(NameOID.COMMON_NAME, u\"client1.com\"),\n",
    "])).add_extension(\n",
    "    x509.SubjectAlternativeName([\n",
    "        # Describe what sites we want this certificate for.\n",
    "        x509.DNSName(u\"mysite.com\"),\n",
    "        x509.DNSName(u\"www.mysite.com\"),\n",
    "        x509.DNSName(u\"subdomain.mysite.com\"),\n",
    "    ]),\n",
    "    critical=False,\n",
    "# Sign the CSR with our private key. is applicant's private key\n",
    ").sign(rsa_key, hashes.SHA256())\n",
    "\n",
    "# 3. send to certificate authority,  the data param name corresond fastapi parameter\n",
    "response = requests.post(\" http://127.0.0.1:8003/issue_cert\",files={'csr_file':csr.public_bytes(serialization.Encoding.PEM)})\n",
    "cert = x509.load_pem_x509_certificate(response.content)\n",
    "print(\"applicant: \"+cert.subject.get_attributes_for_oid(NameOID.COMMON_NAME)[0].value)\n",
    "print(\"issuer: \"+cert.issuer.get_attributes_for_oid(NameOID.COMMON_NAME)[0].value)\n",
    "print(cert.not_valid_before)\n",
    "print(cert.not_valid_after)"
   ]
  },
  {
   "cell_type": "code",
   "execution_count": 10,
   "metadata": {},
   "outputs": [
    {
     "name": "stdout",
     "output_type": "stream",
     "text": [
      "applicant: client2.com\n",
      "issuer: ca1\n",
      "2021-11-23 14:41:17\n",
      "2021-12-03 14:41:17\n"
     ]
    }
   ],
   "source": [
    "# cleint 2 cert sign by ca1\n",
    "# 1. generate RSA key\n",
    "rsa_key=util.generate_ras_key()\n",
    "\n",
    "# 2. create certificate sign request and sign with client private key\n",
    "csr = x509.CertificateSigningRequestBuilder().subject_name(x509.Name([\n",
    "    # Provide various details about who we are.\n",
    "    x509.NameAttribute(NameOID.COUNTRY_NAME, u\"US\"),\n",
    "    x509.NameAttribute(NameOID.STATE_OR_PROVINCE_NAME, u\"California\"),\n",
    "    x509.NameAttribute(NameOID.LOCALITY_NAME, u\"San Francisco\"),\n",
    "    x509.NameAttribute(NameOID.ORGANIZATION_NAME, u\"My Company\"),\n",
    "    x509.NameAttribute(NameOID.COMMON_NAME, u\"client2.com\"),\n",
    "])).add_extension(\n",
    "    x509.SubjectAlternativeName([\n",
    "        # Describe what sites we want this certificate for.\n",
    "        x509.DNSName(u\"mysite.com\"),\n",
    "        x509.DNSName(u\"www.mysite.com\"),\n",
    "        x509.DNSName(u\"subdomain.mysite.com\"),\n",
    "    ]),\n",
    "    critical=False,\n",
    "# Sign the CSR with our private key. is applicant's private key\n",
    ").sign(rsa_key, hashes.SHA256())\n",
    "\n",
    "# 3. send to certificate authority,  the data param name corresond fastapi parameter\n",
    "## notice here port is 8001\n",
    "response = requests.post(\" http://127.0.0.1:8001/issue_cert\",files={'csr_file':csr.public_bytes(serialization.Encoding.PEM)})\n",
    "client1_cert = x509.load_pem_x509_certificate(response.content)\n",
    "print(\"applicant: \"+client1_cert.subject.get_attributes_for_oid(NameOID.COMMON_NAME)[0].value)\n",
    "print(\"issuer: \"+client1_cert.issuer.get_attributes_for_oid(NameOID.COMMON_NAME)[0].value)\n",
    "print(client1_cert.not_valid_before)\n",
    "print(client1_cert.not_valid_after)"
   ]
  },
  {
   "cell_type": "code",
   "execution_count": 11,
   "metadata": {},
   "outputs": [
    {
     "name": "stdout",
     "output_type": "stream",
     "text": [
      "\n",
      " =======verify cert chain ===========\n",
      "client 1 cert verify with root public key\n",
      "validate: False\n",
      "client 1 cert verify with CA1 public key\n",
      "validate: True\n",
      "CA1 cert verify with root public key\n",
      "validate: True\n",
      "revoke CA1 cert in root\n"
     ]
    }
   ],
   "source": [
    "response = requests.post(\" http://127.0.0.1:8000/get_CA_public_key\")\n",
    "root_public_key=serialization.load_pem_public_key(response.content)\n",
    "response = requests.post(\" http://127.0.0.1:8000/get_CA_cert\")\n",
    "ca_root_cert = x509.load_pem_x509_certificate(response.content)\n",
    "\n",
    "response = requests.post(\" http://127.0.0.1:8001/get_CA_public_key\")\n",
    "ca1_public_key=serialization.load_pem_public_key(response.content)\n",
    "response = requests.post(\" http://127.0.0.1:8001/get_CA_cert\")\n",
    "ca1_cert = x509.load_pem_x509_certificate(response.content)\n",
    "\n",
    "\n",
    "# verify cert chain\n",
    "print(\"\\n =======verify cert chain ===========\")\n",
    "print('client 1 cert verify with root public key')\n",
    "print(\"validate: \"+ str(util.verify_cert_signature(client1_cert,root_public_key)))\n",
    "print('client 1 cert verify with CA1 public key')\n",
    "print(\"validate: \"+ str(util.verify_cert_signature(client1_cert,ca1_public_key)))\n",
    "print('CA1 cert verify with root public key')\n",
    "print(\"validate: \"+ str(util.verify_cert_signature(ca1_cert,root_public_key)))\n",
    "print('revoke CA1 cert in root')\n",
    "\n"
   ]
  },
  {
   "cell_type": "code",
   "execution_count": 12,
   "metadata": {},
   "outputs": [
    {
     "name": "stdout",
     "output_type": "stream",
     "text": [
      "b'{\"msg\":\"Not revoke\"}'\n",
      "\n",
      "200\n",
      "b'{\"msg\":\"success\"}'\n",
      "# revoke again #\n",
      "200\n",
      "b'{\"msg\":\"Already revoke\"}'\n",
      "\n"
     ]
    }
   ],
   "source": [
    "response = requests.post(\" http://127.0.0.1:8000/revoke_cert_status\",files={'crt_file':ca1_cert.public_bytes(serialization.Encoding.PEM)})\n",
    "print(response.content)\n",
    "print()\n",
    "response = requests.post(\" http://127.0.0.1:8000/revoke_cert\",files={'crt_file':ca1_cert.public_bytes(serialization.Encoding.PEM)})\n",
    "print(response.status_code)\n",
    "print(response.content)\n",
    "print('# revoke again #')\n",
    "print(response.status_code)\n",
    "response = requests.post(\" http://127.0.0.1:8000/revoke_cert\",files={'crt_file':ca1_cert.public_bytes(serialization.Encoding.PEM)})\n",
    "print(response.content)\n",
    "print()"
   ]
  }
 ],
 "metadata": {
  "interpreter": {
   "hash": "24ea8a3c866e941e66ba287182a887127fbf3ee1769e65723ba36d79c7c12a61"
  },
  "kernelspec": {
   "display_name": "Python 3.10.0 64-bit ('venv': venv)",
   "language": "python",
   "name": "python3"
  },
  "language_info": {
   "codemirror_mode": {
    "name": "ipython",
    "version": 3
   },
   "file_extension": ".py",
   "mimetype": "text/x-python",
   "name": "python",
   "nbconvert_exporter": "python",
   "pygments_lexer": "ipython3",
   "version": "3.10.0"
  },
  "orig_nbformat": 4
 },
 "nbformat": 4,
 "nbformat_minor": 2
}
