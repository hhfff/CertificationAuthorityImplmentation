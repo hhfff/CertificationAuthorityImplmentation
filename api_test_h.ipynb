{
 "cells": [
  {
   "cell_type": "code",
   "execution_count": 42,
   "metadata": {},
   "outputs": [],
   "source": [
    "import requests\n",
    "from cryptography.hazmat.primitives import serialization\n",
    "from cryptography.hazmat.primitives.asymmetric import rsa\n",
    "from CertificationAuthority import CertificationAuthority\n",
    "from cryptography import x509\n",
    "from cryptography.x509.oid import NameOID\n",
    "from cryptography.hazmat.primitives import hashes\n",
    "import util\n"
   ]
  },
  {
   "cell_type": "code",
   "execution_count": 43,
   "metadata": {},
   "outputs": [
    {
     "name": "stdout",
     "output_type": "stream",
     "text": [
      "ca2_1: {'public_key': <cryptography.hazmat.backends.openssl.rsa._RSAPublicKey object at 0x7f2c203b7ee0>, 'cert': <Certificate(subject=<Name(2.5.4.6=SG, 2.5.4.8=Singapore, 2.5.4.7=Singapore, 2.5.4.10=ca2_1, 2.5.4.3=ca2_1, )>, ...)>}\n",
      "ca1_1: {'public_key': <cryptography.hazmat.backends.openssl.rsa._RSAPublicKey object at 0x7f2c203b6110>, 'cert': <Certificate(subject=<Name(2.5.4.6=SG, 2.5.4.8=Singapore, 2.5.4.7=Singapore, 2.5.4.10=ca1_1, 2.5.4.3=ca1_1, )>, ...)>}\n",
      "ca2: {'public_key': <cryptography.hazmat.backends.openssl.rsa._RSAPublicKey object at 0x7f2c203b7fa0>, 'cert': <Certificate(subject=<Name(2.5.4.6=SG, 2.5.4.8=Singapore, 2.5.4.7=Singapore, 2.5.4.10=ca2, 2.5.4.3=ca2, )>, ...)>}\n",
      "ca1: {'public_key': <cryptography.hazmat.backends.openssl.rsa._RSAPublicKey object at 0x7f2c06c4afe0>, 'cert': <Certificate(subject=<Name(2.5.4.6=SG, 2.5.4.8=Singapore, 2.5.4.7=Singapore, 2.5.4.10=ca1, 2.5.4.3=ca1, )>, ...)>}\n",
      "ca_root: {'public_key': <cryptography.hazmat.backends.openssl.rsa._RSAPublicKey object at 0x7f2c06c4a2f0>, 'cert': <Certificate(subject=<Name(2.5.4.6=SG, 2.5.4.8=Singapore, 2.5.4.7=Singapore, 2.5.4.10=ca_root, 2.5.4.3=ca_root, )>, ...)>}\n"
     ]
    }
   ],
   "source": [
    "ca_ports={}\n",
    "ca_ports['ca2_1']=8004\n",
    "ca_ports['ca1_1']=8003\n",
    "ca_ports['ca2']=8002\n",
    "ca_ports['ca1']=8001\n",
    "ca_ports['ca_root']=8000\n",
    "\n",
    "ca_datas={}\n",
    "def get_all_ca_pub_keys():\n",
    "    for name,port in ca_ports.items():\n",
    "        response= requests.get(f\"http://127.0.0.1:{port}/get_CA_public_key\")\n",
    "        pub_key=serialization.load_pem_public_key(response.content)\n",
    "        ca_datas[name]={}\n",
    "        ca_datas[name][\"public_key\"]=pub_key\n",
    "        response= requests.get(f\"http://127.0.0.1:{port}/get_CA_cert\")\n",
    "        cert=x509.load_pem_x509_certificate(response.content)\n",
    "        ca_datas[name]['cert']=cert\n",
    "get_all_ca_pub_keys()\n",
    "for k,v in ca_datas.items():\n",
    "    print(k+\": \"+str(v))\n",
    "\n",
    "    \n"
   ]
  },
  {
   "cell_type": "code",
   "execution_count": 44,
   "metadata": {},
   "outputs": [
    {
     "name": "stdout",
     "output_type": "stream",
     "text": [
      "applicant: client1.com\n",
      "issuer: ca1_1\n",
      "2021-11-25 09:13:07\n",
      "2021-12-05 09:13:07\n"
     ]
    }
   ],
   "source": [
    "#ca_root use port 8000\n",
    "#ca1 use port 8001\n",
    "#ca2 use port 8002\n",
    "#ca1_1 use port 8003\n",
    "#ca1_2 use port 8004\n",
    "\n",
    "# cleint 1 cert sign by root\n",
    "# 1. generate RSA key\n",
    "rsa_key=util.generate_ras_key()\n",
    "\n",
    "# 2. create certificate sign request and sign with client private key\n",
    "csr = x509.CertificateSigningRequestBuilder().subject_name(x509.Name([\n",
    "    # Provide various details about who we are.\n",
    "    x509.NameAttribute(NameOID.COUNTRY_NAME, u\"US\"),\n",
    "    x509.NameAttribute(NameOID.STATE_OR_PROVINCE_NAME, u\"California\"),\n",
    "    x509.NameAttribute(NameOID.LOCALITY_NAME, u\"San Francisco\"),\n",
    "    x509.NameAttribute(NameOID.ORGANIZATION_NAME, u\"My Company\"),\n",
    "    x509.NameAttribute(NameOID.COMMON_NAME, u\"client1.com\"),\n",
    "])).add_extension(\n",
    "    x509.SubjectAlternativeName([\n",
    "        # Describe what sites we want this certificate for.\n",
    "        x509.DNSName(u\"mysite.com\"),\n",
    "        x509.DNSName(u\"www.mysite.com\"),\n",
    "        x509.DNSName(u\"subdomain.mysite.com\"),\n",
    "    ]),\n",
    "    critical=False,\n",
    "# Sign the CSR with our private key. is applicant's private key\n",
    ").sign(rsa_key, hashes.SHA256())\n",
    "\n",
    "# 3. send to certificate authority,  the data param name corresond fastapi parameter\n",
    "response = requests.post(\" http://127.0.0.1:8003/issue_cert\",files={'csr_file':csr.public_bytes(serialization.Encoding.PEM)})\n",
    "client1_cert = x509.load_pem_x509_certificate(response.content)\n",
    "print(\"applicant: \"+client1_cert.subject.get_attributes_for_oid(NameOID.COMMON_NAME)[0].value)\n",
    "print(\"issuer: \"+client1_cert.issuer.get_attributes_for_oid(NameOID.COMMON_NAME)[0].value)\n",
    "print(client1_cert.not_valid_before)\n",
    "print(client1_cert.not_valid_after)"
   ]
  },
  {
   "cell_type": "code",
   "execution_count": 45,
   "metadata": {},
   "outputs": [
    {
     "name": "stdout",
     "output_type": "stream",
     "text": [
      "applicant: client2.com\n",
      "issuer: ca2_1\n",
      "2021-11-25 09:13:08\n",
      "2021-12-05 09:13:08\n"
     ]
    }
   ],
   "source": [
    "# cleint 2 cert sign by ca2_1\n",
    "# 1. generate RSA key\n",
    "rsa_key=util.generate_ras_key()\n",
    "\n",
    "# 2. create certificate sign request and sign with client private key\n",
    "csr = x509.CertificateSigningRequestBuilder().subject_name(x509.Name([\n",
    "    # Provide various details about who we are.\n",
    "    x509.NameAttribute(NameOID.COUNTRY_NAME, u\"US\"),\n",
    "    x509.NameAttribute(NameOID.STATE_OR_PROVINCE_NAME, u\"California\"),\n",
    "    x509.NameAttribute(NameOID.LOCALITY_NAME, u\"San Francisco\"),\n",
    "    x509.NameAttribute(NameOID.ORGANIZATION_NAME, u\"My Company\"),\n",
    "    x509.NameAttribute(NameOID.COMMON_NAME, u\"client2.com\"),\n",
    "])).add_extension(\n",
    "    x509.SubjectAlternativeName([\n",
    "        # Describe what sites we want this certificate for.\n",
    "        x509.DNSName(u\"mysite.com\"),\n",
    "        x509.DNSName(u\"www.mysite.com\"),\n",
    "        x509.DNSName(u\"subdomain.mysite.com\"),\n",
    "    ]),\n",
    "    critical=False,\n",
    "# Sign the CSR with our private key. is applicant's private key\n",
    ").sign(rsa_key, hashes.SHA256())\n",
    "\n",
    "# 3. send to certificate authority,  the data param name corresond fastapi parameter\n",
    "## notice here port is 8001\n",
    "response = requests.post(f\"http://127.0.0.1:{ca_ports['ca2_1']}/issue_cert\",files={'csr_file':csr.public_bytes(serialization.Encoding.PEM)})\n",
    "client2_cert = x509.load_pem_x509_certificate(response.content)\n",
    "print(\"applicant: \"+client2_cert.subject.get_attributes_for_oid(NameOID.COMMON_NAME)[0].value)\n",
    "print(\"issuer: \"+client2_cert.issuer.get_attributes_for_oid(NameOID.COMMON_NAME)[0].value)\n",
    "print(client2_cert.not_valid_before)\n",
    "print(client2_cert.not_valid_after)"
   ]
  },
  {
   "cell_type": "code",
   "execution_count": 46,
   "metadata": {},
   "outputs": [
    {
     "name": "stdout",
     "output_type": "stream",
     "text": [
      "\n",
      "subjective: client1.com \t issuer: ca1_1\n",
      "====check revoke status for client1.com from ca1_1\n",
      "http://127.0.0.1:8003/revoke_cert_status\n",
      "b'{\"msg\":\"Not revoke\"}'\n",
      "=====verfy cert using ca1_1 public key\n",
      "correct signature\n",
      "\n",
      "subjective: ca1_1 \t issuer: ca1\n",
      "====check revoke status for ca1_1 from ca1\n",
      "http://127.0.0.1:8001/revoke_cert_status\n",
      "b'{\"msg\":\"Not revoke\"}'\n",
      "=====verfy cert using ca1 public key\n",
      "correct signature\n",
      "\n",
      "subjective: ca1 \t issuer: ca_root\n",
      "====check revoke status for ca1 from ca_root\n",
      "http://127.0.0.1:8000/revoke_cert_status\n",
      "b'{\"msg\":\"Not revoke\"}'\n",
      "=====verfy cert using ca_root public key\n",
      "correct signature\n"
     ]
    }
   ],
   "source": [
    "#verify chain\n",
    "def verify_chain(cur_cert):\n",
    "    while True:\n",
    "        #eg, ca1_1\n",
    "        subjective=cur_cert.subject.get_attributes_for_oid(NameOID.COMMON_NAME)[0].value\n",
    "        issuer_commonName=cur_cert.issuer.get_attributes_for_oid(NameOID.COMMON_NAME)[0].value\n",
    "        print(f\"\\nsubjective: {subjective} \\t issuer: {issuer_commonName}\")\n",
    "        print(f\"====check revoke status for {subjective} from {issuer_commonName}\")\n",
    "        print(f\"http://127.0.0.1:{ca_ports[issuer_commonName]}/revoke_cert_status\")\n",
    "        response = requests.get(f\"http://127.0.0.1:{ca_ports[issuer_commonName]}/revoke_cert_status\",files={'crt_file':cur_cert.public_bytes(serialization.Encoding.PEM)})\n",
    "        print(response.content)\n",
    "        print(f\"=====verfy cert using {issuer_commonName} public key\")\n",
    "        pub_key=ca_datas[issuer_commonName]['public_key']\n",
    "        status=util.verify_cert_signature(cur_cert,pub_key)\n",
    "        if status:\n",
    "            print(\"correct signature\")\n",
    "        else:\n",
    "            print(\"XXX wrong signaure XXX\")\n",
    "        if issuer_commonName=='ca_root':\n",
    "            break\n",
    "        \n",
    "        cur_cert=ca_datas[issuer_commonName]['cert']\n",
    "verify_chain(client1_cert)"
   ]
  },
  {
   "cell_type": "code",
   "execution_count": 47,
   "metadata": {},
   "outputs": [
    {
     "name": "stdout",
     "output_type": "stream",
     "text": [
      "b'{\"msg\":\"The certificate was not issue by this server, the issuer is ca2_1\"}'\n"
     ]
    }
   ],
   "source": [
    "# revoke client2 cert from ca1_1, will fail because not issue by it\n",
    "cpb=client2_cert.public_bytes(serialization.Encoding.PEM)\n",
    "response = requests.post(f\"http://127.0.0.1:{ca_ports['ca1_1']}/revoke_cert\",files={'crt_file':cpb})\n",
    "print(response.content)\n"
   ]
  },
  {
   "cell_type": "code",
   "execution_count": null,
   "metadata": {},
   "outputs": [],
   "source": []
  },
  {
   "cell_type": "code",
   "execution_count": 48,
   "metadata": {},
   "outputs": [
    {
     "name": "stdout",
     "output_type": "stream",
     "text": [
      "http://127.0.0.1:8003/revoke_cert\n",
      "b'{\"msg\":\"Revoke successful\"}'\n"
     ]
    }
   ],
   "source": [
    "# revoke client1 cert from ca1_1\n",
    "cpb=client1_cert.public_bytes(serialization.Encoding.PEM)\n",
    "print(f\"http://127.0.0.1:{ca_ports['ca1_1']}/revoke_cert\")\n",
    "response = requests.post(f\"http://127.0.0.1:{ca_ports['ca1_1']}/revoke_cert\",files={'crt_file':cpb})\n",
    "print(response.content)"
   ]
  },
  {
   "cell_type": "code",
   "execution_count": null,
   "metadata": {},
   "outputs": [],
   "source": []
  },
  {
   "cell_type": "code",
   "execution_count": 49,
   "metadata": {},
   "outputs": [
    {
     "name": "stdout",
     "output_type": "stream",
     "text": [
      "\n",
      "subjective: client1.com \t issuer: ca1_1\n",
      "====check revoke status for client1.com from ca1_1\n",
      "http://127.0.0.1:8003/revoke_cert_status\n",
      "b'{\"msg\":\"Already revoke\"}'\n",
      "=====verfy cert using ca1_1 public key\n",
      "correct signature\n",
      "\n",
      "subjective: ca1_1 \t issuer: ca1\n",
      "====check revoke status for ca1_1 from ca1\n",
      "http://127.0.0.1:8001/revoke_cert_status\n",
      "b'{\"msg\":\"Not revoke\"}'\n",
      "=====verfy cert using ca1 public key\n",
      "correct signature\n",
      "\n",
      "subjective: ca1 \t issuer: ca_root\n",
      "====check revoke status for ca1 from ca_root\n",
      "http://127.0.0.1:8000/revoke_cert_status\n",
      "b'{\"msg\":\"Not revoke\"}'\n",
      "=====verfy cert using ca_root public key\n",
      "correct signature\n"
     ]
    }
   ],
   "source": [
    "verify_chain(client1_cert)\n",
    "\n"
   ]
  },
  {
   "cell_type": "code",
   "execution_count": 50,
   "metadata": {},
   "outputs": [
    {
     "name": "stdout",
     "output_type": "stream",
     "text": [
      "\n",
      "subjective: client2.com \t issuer: ca2_1\n",
      "====check revoke status for client2.com from ca2_1\n",
      "http://127.0.0.1:8004/revoke_cert_status\n",
      "b'{\"msg\":\"Not revoke\"}'\n",
      "=====verfy cert using ca2_1 public key\n",
      "correct signature\n",
      "\n",
      "subjective: ca2_1 \t issuer: ca2\n",
      "====check revoke status for ca2_1 from ca2\n",
      "http://127.0.0.1:8002/revoke_cert_status\n",
      "b'{\"msg\":\"Not revoke\"}'\n",
      "=====verfy cert using ca2 public key\n",
      "correct signature\n",
      "\n",
      "subjective: ca2 \t issuer: ca_root\n",
      "====check revoke status for ca2 from ca_root\n",
      "http://127.0.0.1:8000/revoke_cert_status\n",
      "b'{\"msg\":\"Not revoke\"}'\n",
      "=====verfy cert using ca_root public key\n",
      "correct signature\n"
     ]
    }
   ],
   "source": [
    "verify_chain(client2_cert)"
   ]
  },
  {
   "cell_type": "code",
   "execution_count": 51,
   "metadata": {},
   "outputs": [
    {
     "name": "stdout",
     "output_type": "stream",
     "text": [
      "b'-----BEGIN CERTIFICATE-----\\nMIIDNjCCAh6gAwIBAgIUWwS7hXdfuFhcjxzw6LqYxhqidacwDQYJKoZIhvcNAQEL\\nBQAwWTELMAkGA1UEBhMCU0cxEjAQBgNVBAgMCVNpbmdhcG9yZTESMBAGA1UEBwwJ\\nU2luZ2Fwb3JlMRAwDgYDVQQKDAdjYV9yb290MRAwDgYDVQQDDAdjYV9yb290MB4X\\nDTIxMTEyNTA5MTMwN1oXDTIxMTIwNTA5MTMwN1owUTELMAkGA1UEBhMCU0cxEjAQ\\nBgNVBAgMCVNpbmdhcG9yZTESMBAGA1UEBwwJU2luZ2Fwb3JlMQwwCgYDVQQKDANj\\nYTIxDDAKBgNVBAMMA2NhMjCCASIwDQYJKoZIhvcNAQEBBQADggEPADCCAQoCggEB\\nANrUABkgJneaUL1B3r38j/bFHGlq+E3XS2TIhivBZjif0B/kUCqIoYOadtIpG3Xo\\nP4o5tYznnpxRLot19z8ApjLlH4r4xFt2mLrj+1Cl5jhkaHhQ6rmtFcWxIsaz1d19\\nXnBrklbpWzM6ZqNp19sj0DPYQbJhmtvkMO/9ohx0Xf7ygTrDlpRQtnhqeIptSIqy\\nvb3kX5tz+RZyPTeeKWOfc50HdCFdpNx4WbUrrlWOGaDkMrxowzi587vsFGGXPGkt\\napOKfiJ7k1fD0eb6Fpnmvu/pY+7mgEmE5etdnAXU9j4G/vaVG0YSpxQaPJvsoHR+\\nVlU+6ZdqgHgiU1n2u/thZhMCAwEAATANBgkqhkiG9w0BAQsFAAOCAQEAF9cVnm99\\ncfqxscFjG1rJyZFrMtY0tHmrlyIV8olLuL5u74RCAeWKADpfaAYPscPzrSU8Y3kO\\n8Pu84+bR/MHHnZbcvNHJ/QOaC/aIJ96EPrJuZy63jtgAxU2/J/cZ7SY9bh0MAa+k\\nyTHRFkIag/ilc3VT7L3Xk3E4Yk58MIhyM6TMbFroEdS0FKSb2x8buRyj4MaoY32J\\nyWcGCQ+cg22pyFZvO1r6VA1hb8UJShuILqs5/scalzeAOyqgCgCqx0sN7mizisrU\\nXR0IywM1G7BhsnEJxHJSVuwR1QB9YksgmiBMTy/iJ+lwqBnzm21ikqNlzaOxTkD5\\nhc2q7mGoZ+/LJA==\\n-----END CERTIFICATE-----\\n'\n"
     ]
    }
   ],
   "source": [
    "# get ca cert from ca2, the original cert\n",
    "response = requests.get(f\"http://127.0.0.1:{ca_ports['ca2']}/get_CA_cert\")\n",
    "print(response.content)"
   ]
  },
  {
   "cell_type": "code",
   "execution_count": 52,
   "metadata": {},
   "outputs": [
    {
     "name": "stdout",
     "output_type": "stream",
     "text": [
      "b'{\"msg\":\"CA cert, will get new cert on next request\"}'\n"
     ]
    }
   ],
   "source": [
    "# revoke ca2 cert from ca_root\n",
    "response=requests.post(f\"http://127.0.0.1:{ca_ports['ca2']}/revoke_ca_cert\")\n",
    "print(response.content)"
   ]
  },
  {
   "cell_type": "code",
   "execution_count": 53,
   "metadata": {},
   "outputs": [
    {
     "name": "stdout",
     "output_type": "stream",
     "text": [
      "b'-----BEGIN CERTIFICATE-----\\nMIIDNjCCAh6gAwIBAgIUZ3GN7b9hHSUaOa6fyXTUsH/uR94wDQYJKoZIhvcNAQEL\\nBQAwWTELMAkGA1UEBhMCU0cxEjAQBgNVBAgMCVNpbmdhcG9yZTESMBAGA1UEBwwJ\\nU2luZ2Fwb3JlMRAwDgYDVQQKDAdjYV9yb290MRAwDgYDVQQDDAdjYV9yb290MB4X\\nDTIxMTEyNTA5MTMwOFoXDTIxMTIwNTA5MTMwOFowUTELMAkGA1UEBhMCU0cxEjAQ\\nBgNVBAgMCVNpbmdhcG9yZTESMBAGA1UEBwwJU2luZ2Fwb3JlMQwwCgYDVQQKDANj\\nYTIxDDAKBgNVBAMMA2NhMjCCASIwDQYJKoZIhvcNAQEBBQADggEPADCCAQoCggEB\\nANrUABkgJneaUL1B3r38j/bFHGlq+E3XS2TIhivBZjif0B/kUCqIoYOadtIpG3Xo\\nP4o5tYznnpxRLot19z8ApjLlH4r4xFt2mLrj+1Cl5jhkaHhQ6rmtFcWxIsaz1d19\\nXnBrklbpWzM6ZqNp19sj0DPYQbJhmtvkMO/9ohx0Xf7ygTrDlpRQtnhqeIptSIqy\\nvb3kX5tz+RZyPTeeKWOfc50HdCFdpNx4WbUrrlWOGaDkMrxowzi587vsFGGXPGkt\\napOKfiJ7k1fD0eb6Fpnmvu/pY+7mgEmE5etdnAXU9j4G/vaVG0YSpxQaPJvsoHR+\\nVlU+6ZdqgHgiU1n2u/thZhMCAwEAATANBgkqhkiG9w0BAQsFAAOCAQEAcmky7L6e\\nsumJVzq9mLezuRhXUSSCLcA672nDcF3ZjuaV2fFBiOCijvDIz6xuiVL8orN1hsLM\\n8go5oVT0n9+bBkhfSRR7i+FrI+0BbhkXW5Iz8YwmdGxaXjXncWxrOiya283wy+BT\\nGhJKJcGOMLiPjCZWtLgEUSqjbEpnD/sR99CljNz3NkdGajoKacQ5klgFuPaJUJ1C\\neBb18+d3nwlPRQ1MiXVw61u0y05bX87j7JyhRadx2WLJImnJNuLsyO/qW0hbmvU8\\nT/sKX9lZtN7skwdfDRRIWVoe/iP49yVx7uroFxyYzBavFzWlrfeZ3MjTITZDP8H7\\nc5pQHsuu+a9HGQ==\\n-----END CERTIFICATE-----\\n'\n"
     ]
    }
   ],
   "source": [
    "# verify again, get ca cert from ca2, the cert will different, this api will always return a cert, if delete, it will create a new one\n",
    "response = requests.get(f\"http://127.0.0.1:{ca_ports['ca2']}/get_CA_cert\")\n",
    "print(response.content)"
   ]
  },
  {
   "cell_type": "code",
   "execution_count": 54,
   "metadata": {},
   "outputs": [
    {
     "name": "stdout",
     "output_type": "stream",
     "text": [
      "\n",
      "subjective: client2.com \t issuer: ca2_1\n",
      "====check revoke status for client2.com from ca2_1\n",
      "http://127.0.0.1:8004/revoke_cert_status\n",
      "b'{\"msg\":\"Not revoke\"}'\n",
      "=====verfy cert using ca2_1 public key\n",
      "correct signature\n",
      "\n",
      "subjective: ca2_1 \t issuer: ca2\n",
      "====check revoke status for ca2_1 from ca2\n",
      "http://127.0.0.1:8002/revoke_cert_status\n",
      "b'{\"msg\":\"Not revoke\"}'\n",
      "=====verfy cert using ca2 public key\n",
      "correct signature\n",
      "\n",
      "subjective: ca2 \t issuer: ca_root\n",
      "====check revoke status for ca2 from ca_root\n",
      "http://127.0.0.1:8000/revoke_cert_status\n",
      "b'{\"msg\":\"Already revoke\"}'\n",
      "=====verfy cert using ca_root public key\n",
      "correct signature\n"
     ]
    }
   ],
   "source": [
    "verify_chain(client2_cert)"
   ]
  }
 ],
 "metadata": {
  "interpreter": {
   "hash": "24ea8a3c866e941e66ba287182a887127fbf3ee1769e65723ba36d79c7c12a61"
  },
  "kernelspec": {
   "display_name": "Python 3.10.0 64-bit ('venv': venv)",
   "language": "python",
   "name": "python3"
  },
  "language_info": {
   "codemirror_mode": {
    "name": "ipython",
    "version": 3
   },
   "file_extension": ".py",
   "mimetype": "text/x-python",
   "name": "python",
   "nbconvert_exporter": "python",
   "pygments_lexer": "ipython3",
   "version": "3.10.0"
  },
  "orig_nbformat": 4
 },
 "nbformat": 4,
 "nbformat_minor": 2
}
