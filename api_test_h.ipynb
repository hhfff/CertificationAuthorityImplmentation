{
 "cells": [
  {
   "cell_type": "code",
   "execution_count": 47,
   "metadata": {},
   "outputs": [],
   "source": [
    "import requests\n",
    "from cryptography.hazmat.primitives import serialization\n",
    "from cryptography.hazmat.primitives.asymmetric import rsa\n",
    "from CertificationAuthority import CertificationAuthority\n",
    "from cryptography import x509\n",
    "from cryptography.x509.oid import NameOID\n",
    "from cryptography.hazmat.primitives import hashes\n",
    "import util"
   ]
  },
  {
   "cell_type": "markdown",
   "metadata": {},
   "source": [
    "# get all ca cert and public key"
   ]
  },
  {
   "cell_type": "code",
   "execution_count": 49,
   "metadata": {},
   "outputs": [
    {
     "name": "stdout",
     "output_type": "stream",
     "text": [
      "ca2_1: {'public_key': <cryptography.hazmat.backends.openssl.rsa._RSAPublicKey object at 0x7fbc8c0b5d50>, 'cert': <Certificate(subject=<Name(2.5.4.6=SG, 2.5.4.8=Singapore, 2.5.4.7=Singapore, 2.5.4.10=ca2_1, 2.5.4.3=ca2_1, )>, ...)>}\n",
      "ca1_1: {'public_key': <cryptography.hazmat.backends.openssl.rsa._RSAPublicKey object at 0x7fbc8c0b55d0>, 'cert': <Certificate(subject=<Name(2.5.4.6=SG, 2.5.4.8=Singapore, 2.5.4.7=Singapore, 2.5.4.10=ca1_1, 2.5.4.3=ca1_1, )>, ...)>}\n",
      "ca2: {'public_key': <cryptography.hazmat.backends.openssl.rsa._RSAPublicKey object at 0x7fbc8c0f6230>, 'cert': <Certificate(subject=<Name(2.5.4.6=SG, 2.5.4.8=Singapore, 2.5.4.7=Singapore, 2.5.4.10=ca2, 2.5.4.3=ca2, )>, ...)>}\n",
      "ca1: {'public_key': <cryptography.hazmat.backends.openssl.rsa._RSAPublicKey object at 0x7fbc8c0b6b00>, 'cert': <Certificate(subject=<Name(2.5.4.6=SG, 2.5.4.8=Singapore, 2.5.4.7=Singapore, 2.5.4.10=ca1, 2.5.4.3=ca1, )>, ...)>}\n",
      "ca_root: {'public_key': <cryptography.hazmat.backends.openssl.rsa._RSAPublicKey object at 0x7fbc8c0b5b70>, 'cert': <Certificate(subject=<Name(2.5.4.6=SG, 2.5.4.8=Singapore, 2.5.4.7=Singapore, 2.5.4.10=ca_root, 2.5.4.3=ca_root, )>, ...)>}\n"
     ]
    }
   ],
   "source": [
    "ca_ports={}\n",
    "ca_ports['ca2_1']=8004\n",
    "ca_ports['ca1_1']=8003\n",
    "ca_ports['ca2']=8002\n",
    "ca_ports['ca1']=8001\n",
    "ca_ports['ca_root']=8000\n",
    "ca_datas={} # store public key and cert\n",
    "def get_all_ca_pub_keys():\n",
    "    for name,port in ca_ports.items():\n",
    "        response= requests.get(f\"http://127.0.0.1:{port}/get_CA_public_key\")\n",
    "        pub_key=serialization.load_pem_public_key(response.content)\n",
    "        ca_datas[name]={}\n",
    "        ca_datas[name][\"public_key\"]=pub_key\n",
    "        response= requests.get(f\"http://127.0.0.1:{port}/get_CA_cert\")\n",
    "        cert=x509.load_pem_x509_certificate(response.content)\n",
    "        ca_datas[name]['cert']=cert\n",
    "get_all_ca_pub_keys()\n",
    "for k,v in ca_datas.items():\n",
    "    print(k+\": \"+str(v))\n",
    "\n",
    "    \n"
   ]
  },
  {
   "cell_type": "markdown",
   "metadata": {},
   "source": [
    "![title](https://user-images.githubusercontent.com/7097606/143174026-dfc7c921-7582-4cf2-82c8-0cfbc98232a7.png)\n",
    "# root CA use self sign cert\n",
    "# intermediate will get cert from 1 level above\n",
    "\n",
    "## create certificate sign request and get sign for \n",
    "- client 1 sign by ca1_1\n",
    "- client 2 sign by ca2_1"
   ]
  },
  {
   "cell_type": "code",
   "execution_count": 50,
   "metadata": {},
   "outputs": [
    {
     "name": "stdout",
     "output_type": "stream",
     "text": [
      "b'-----BEGIN CERTIFICATE-----\\nMIIDRjCCAi6gAwIBAgIUUCdojaLKe3CLUVQTFrNGlAQ97DYwDQYJKoZIhvcNAQEL\\nBQAwVTELMAkGA1UEBhMCU0cxEjAQBgNVBAgMCVNpbmdhcG9yZTESMBAGA1UEBwwJ\\nU2luZ2Fwb3JlMQ4wDAYDVQQKDAVjYTFfMTEOMAwGA1UEAwwFY2ExXzEwHhcNMjEx\\nMTI3MDgwOTM0WhcNMjExMjA3MDgwOTM0WjBlMQswCQYDVQQGEwJVUzETMBEGA1UE\\nCAwKQ2FsaWZvcm5pYTEWMBQGA1UEBwwNU2FuIEZyYW5jaXNjbzETMBEGA1UECgwK\\nTXkgQ29tcGFueTEUMBIGA1UEAwwLY2xpZW50MS5jb20wggEiMA0GCSqGSIb3DQEB\\nAQUAA4IBDwAwggEKAoIBAQDMViQz/xSrURSJK1OwgHcQXVUqXRJ6Brq7tzlWtbdY\\nUtsJick0CBZgmjKMxFQsJL9Tv81erlo1Fw5UDcwgQAT5HlU/X60q6Z5hFvmzR9D1\\nFJbAyiZIiSYo3JX5RvpYAzx4zUbFwOFSjEfmm9tu+LVUzgzScIOEpF2LtzVtrIum\\neg6rrh7mci2AzvhZ6x50+2daAPjNlQn9DTz649s9Sq/fZzyCS8N/pghyDiXq2S6W\\nzXrH2d1VraywVmpwX6xpZbDnHOH2tYIWzvkRjUjRnw1ak/4fnf9SGnPtyrqP8GUD\\nkPfKFEzH3o1sTXmxBLdSEc8PXt5AOE0wuB3qMHMd5Yb7AgMBAAEwDQYJKoZIhvcN\\nAQELBQADggEBAK8jAf2G1XVxwUMLyJajZxLeUhPRdndoBUv4f0o6oH1iuzRMCoad\\nI0zziie5gZqDIXhPB8DXJE+md09BtHqZP4AAfliur0+j/BVVyuvkDeGlBd15vBzD\\nzQNVyzADRKVqc6mloTUkvuu9QkC47v7DJ0i9N5K7Bezvxuxs1IGcaD0wsI4D6+rr\\neJDgW3xjtX8gYqn5YjFSgl+YcUSZp+ZpXKwp34bCIVrvJosLDzZCGqbFquFS45Mr\\nMPrRHC1kh9FujbyU4R82UZEhSr2k2Npv8RV/R8VzQEslB5LYXzR4w2KSGQWJt3oM\\nZP34YCfwRFSbnlY/wNFHZyF88APzRjFEx60=\\n-----END CERTIFICATE-----\\n'\n",
      "applicant: client1.com\n",
      "issuer: ca1_1\n",
      "2021-11-27 08:09:34\n",
      "2021-12-07 08:09:34\n"
     ]
    }
   ],
   "source": [
    "#ca_root use port 8000\n",
    "#ca1 use port 8001\n",
    "#ca2 use port 8002\n",
    "#ca1_1 use port 8003\n",
    "#ca1_2 use port 8004\n",
    "\n",
    "# cleint 1 cert sign by root\n",
    "# 1. generate RSA key\n",
    "rsa_key=util.generate_ras_key()\n",
    "\n",
    "# 2. create certificate sign request and sign with client private key\n",
    "csr = x509.CertificateSigningRequestBuilder().subject_name(x509.Name([\n",
    "    # Provide various details about who we are.\n",
    "    x509.NameAttribute(NameOID.COUNTRY_NAME, u\"US\"),\n",
    "    x509.NameAttribute(NameOID.STATE_OR_PROVINCE_NAME, u\"California\"),\n",
    "    x509.NameAttribute(NameOID.LOCALITY_NAME, u\"San Francisco\"),\n",
    "    x509.NameAttribute(NameOID.ORGANIZATION_NAME, u\"My Company\"),\n",
    "    x509.NameAttribute(NameOID.COMMON_NAME, u\"client1.com\"),\n",
    "])).add_extension(\n",
    "    x509.SubjectAlternativeName([\n",
    "        # Describe what sites we want this certificate for.\n",
    "        x509.DNSName(u\"mysite.com\"),\n",
    "        x509.DNSName(u\"www.mysite.com\"),\n",
    "        x509.DNSName(u\"subdomain.mysite.com\"),\n",
    "    ]),\n",
    "    critical=False,\n",
    "# Sign the CSR with our private key. is applicant's private key\n",
    ").sign(rsa_key, hashes.SHA256())\n",
    "\n",
    "# 3. send to certificate authority,  the data param name corresond fastapi parameter\n",
    "response = requests.post(f\"http://127.0.0.1:{ca_ports['ca1_1']}/issue_cert\",files={'csr_file':csr.public_bytes(serialization.Encoding.PEM)})\n",
    "client1_cert = x509.load_pem_x509_certificate(response.content)\n",
    "print(response.content)\n",
    "print(\"applicant: \"+client1_cert.subject.get_attributes_for_oid(NameOID.COMMON_NAME)[0].value)\n",
    "print(\"issuer: \"+client1_cert.issuer.get_attributes_for_oid(NameOID.COMMON_NAME)[0].value)\n",
    "print(client1_cert.not_valid_before)\n",
    "print(client1_cert.not_valid_after)"
   ]
  },
  {
   "cell_type": "code",
   "execution_count": 51,
   "metadata": {},
   "outputs": [
    {
     "name": "stdout",
     "output_type": "stream",
     "text": [
      "b'-----BEGIN CERTIFICATE-----\\nMIIDRjCCAi6gAwIBAgIUaM2DRQt6XuwWpyfLuyPHgW4QGI8wDQYJKoZIhvcNAQEL\\nBQAwVTELMAkGA1UEBhMCU0cxEjAQBgNVBAgMCVNpbmdhcG9yZTESMBAGA1UEBwwJ\\nU2luZ2Fwb3JlMQ4wDAYDVQQKDAVjYTJfMTEOMAwGA1UEAwwFY2EyXzEwHhcNMjEx\\nMTI3MDgwOTQ4WhcNMjExMjA3MDgwOTQ4WjBlMQswCQYDVQQGEwJVUzETMBEGA1UE\\nCAwKQ2FsaWZvcm5pYTEWMBQGA1UEBwwNU2FuIEZyYW5jaXNjbzETMBEGA1UECgwK\\nTXkgQ29tcGFueTEUMBIGA1UEAwwLY2xpZW50Mi5jb20wggEiMA0GCSqGSIb3DQEB\\nAQUAA4IBDwAwggEKAoIBAQDcOcFWVsOLgXsc2392qO7BEwJ+13z2/mq2FkFxq5uR\\nYwEhcaq+gRlbO0e863SuwajiQGGcejm6eXwqjcGGLcpizQWsFmDHL9K0/vnH9Iu6\\nADZiHjx1YCWszXnE3Z6HsVvLxEVeiA/FXw0V+jj3Z5aI95g5QWwc1JbrnQAU8F6X\\nZRcqIhpOguy42rE298Knqnk8XbqE9DcC0P6LS/O26XQBucd1FIlzVidmB1Z2Ksyn\\nmU3WPTjyBsnxj5v/uqSGzMflxpFPhbe1KghYXlf1emn7CybguoZ0+tG8En8OtCgm\\nfrqD7wpf/93/f06ofyftBOl24/YApJ0mInuhp3KpmvlZAgMBAAEwDQYJKoZIhvcN\\nAQELBQADggEBAJCGgvqLi1gQ43/0/LnDfwvq+rOGDTwtqcKvjZ/4QF92+pQrp5c5\\nIwXztIGPcOD41C67tdDm0JCq9TFRHgmMQTZvrprD/9BemXE/JJGEdXnt/RhQ4bN8\\ndG+OO8QBklckau5jj2wN6xhmiyBcI5pwvRGNSFQZoNZdiW1eOR/W0NgB6UXiCiXJ\\nwy2FXjrdammGF2LmgesViCUfir/rxOGVNXxBP8nC6030ksmIP93dT4a3x0HpfP9J\\nDDLMrni4O1OnMlBGDRT3k8QiAVeV5anFzOugo2Iyr/I2tZOntCBfu2+9JezUwrvi\\nnWuN0KJhAqqSicFISsZ3lYCt0jmJeHOxjBw=\\n-----END CERTIFICATE-----\\n'\n",
      "applicant: client2.com\n",
      "issuer: ca2_1\n",
      "2021-11-27 08:09:48\n",
      "2021-12-07 08:09:48\n"
     ]
    }
   ],
   "source": [
    "# cleint 2 cert sign by ca2_1\n",
    "# 1. generate RSA key\n",
    "rsa_key=util.generate_ras_key()\n",
    "\n",
    "# 2. create certificate sign request and sign with client private key\n",
    "csr = x509.CertificateSigningRequestBuilder().subject_name(x509.Name([\n",
    "    # Provide various details about who we are.\n",
    "    x509.NameAttribute(NameOID.COUNTRY_NAME, u\"US\"),\n",
    "    x509.NameAttribute(NameOID.STATE_OR_PROVINCE_NAME, u\"California\"),\n",
    "    x509.NameAttribute(NameOID.LOCALITY_NAME, u\"San Francisco\"),\n",
    "    x509.NameAttribute(NameOID.ORGANIZATION_NAME, u\"My Company\"),\n",
    "    x509.NameAttribute(NameOID.COMMON_NAME, u\"client2.com\"),\n",
    "])).add_extension(\n",
    "    x509.SubjectAlternativeName([\n",
    "        # Describe what sites we want this certificate for.\n",
    "        x509.DNSName(u\"mysite.com\"),\n",
    "        x509.DNSName(u\"www.mysite.com\"),\n",
    "        x509.DNSName(u\"subdomain.mysite.com\"),\n",
    "    ]),\n",
    "    critical=False,\n",
    "# Sign the CSR with our private key. is applicant's private key\n",
    ").sign(rsa_key, hashes.SHA256())\n",
    "\n",
    "# 3. send to certificate authority,  the data param name corresond fastapi parameter\n",
    "## notice here port is 8001\n",
    "response = requests.post(f\"http://127.0.0.1:{ca_ports['ca2_1']}/issue_cert\",files={'csr_file':csr.public_bytes(serialization.Encoding.PEM)})\n",
    "client2_cert = x509.load_pem_x509_certificate(response.content)\n",
    "print(response.content)\n",
    "print(\"applicant: \"+client2_cert.subject.get_attributes_for_oid(NameOID.COMMON_NAME)[0].value)\n",
    "print(\"issuer: \"+client2_cert.issuer.get_attributes_for_oid(NameOID.COMMON_NAME)[0].value)\n",
    "print(client2_cert.not_valid_before)\n",
    "print(client2_cert.not_valid_after)"
   ]
  },
  {
   "cell_type": "code",
   "execution_count": 52,
   "metadata": {},
   "outputs": [
    {
     "name": "stdout",
     "output_type": "stream",
     "text": [
      "\n",
      "subjective: client1.com \t issuer: ca1_1\n",
      "====check revoke status for client1.com from ca1_1\n",
      "b'{\"msg\":\"Not revoke\"}'\n",
      "=====verfy cert using ca1_1 public key\n",
      "correct signature\n",
      "\n",
      "subjective: ca1_1 \t issuer: ca1\n",
      "====check revoke status for ca1_1 from ca1\n",
      "b'{\"msg\":\"Not revoke\"}'\n",
      "=====verfy cert using ca1 public key\n",
      "correct signature\n",
      "\n",
      "subjective: ca1 \t issuer: ca_root\n",
      "====check revoke status for ca1 from ca_root\n",
      "b'{\"msg\":\"Not revoke\"}'\n",
      "=====verfy cert using ca_root public key\n",
      "correct signature\n"
     ]
    }
   ],
   "source": [
    "#verify chain\n",
    "def verify_chain(cur_cert):\n",
    "    while True:\n",
    "        #eg, ca1_1\n",
    "        subjective=cur_cert.subject.get_attributes_for_oid(NameOID.COMMON_NAME)[0].value\n",
    "        issuer_commonName=cur_cert.issuer.get_attributes_for_oid(NameOID.COMMON_NAME)[0].value\n",
    "        print(f\"\\nsubjective: {subjective} \\t issuer: {issuer_commonName}\")\n",
    "        print(f\"====check revoke status for {subjective} from {issuer_commonName}\")\n",
    "        #print(f\"http://127.0.0.1:{ca_ports[issuer_commonName]}/revoke_cert_status\")\n",
    "        response = requests.get(f\"http://127.0.0.1:{ca_ports[issuer_commonName]}/revoke_cert_status\",files={'crt_file':cur_cert.public_bytes(serialization.Encoding.PEM)})\n",
    "        print(response.content)\n",
    "        print(f\"=====verfy cert using {issuer_commonName} public key\")\n",
    "        pub_key=ca_datas[issuer_commonName]['public_key']\n",
    "        status=util.verify_cert_signature(cur_cert,pub_key)\n",
    "        if status:\n",
    "            print(\"correct signature\")\n",
    "        else:\n",
    "            print(\"XXX wrong signaure XXX\")\n",
    "        if issuer_commonName=='ca_root':\n",
    "            break\n",
    "        \n",
    "        cur_cert=ca_datas[issuer_commonName]['cert']\n",
    "verify_chain(client1_cert)"
   ]
  },
  {
   "cell_type": "markdown",
   "metadata": {},
   "source": [
    "# Revoke client 2 from ca1_1, will fail because not issue by it"
   ]
  },
  {
   "cell_type": "code",
   "execution_count": 53,
   "metadata": {},
   "outputs": [
    {
     "name": "stdout",
     "output_type": "stream",
     "text": [
      "b'{\"msg\":\"The certificate was not issue by this server, the issuer is ca2_1\"}'\n"
     ]
    }
   ],
   "source": [
    "# revoke client2 cert from ca1_1, will fail because not issue by it\n",
    "cpb=client2_cert.public_bytes(serialization.Encoding.PEM)\n",
    "response = requests.post(f\"http://127.0.0.1:{ca_ports['ca1_1']}/revoke_cert\",files={'crt_file':cpb})\n",
    "print(response.content)\n"
   ]
  },
  {
   "cell_type": "markdown",
   "metadata": {},
   "source": [
    "# Revoke client 1 from ca1_1 twice, return 2 different message"
   ]
  },
  {
   "cell_type": "code",
   "execution_count": 55,
   "metadata": {},
   "outputs": [
    {
     "name": "stdout",
     "output_type": "stream",
     "text": [
      "http://127.0.0.1:8003/revoke_cert\n",
      "b'{\"msg\":\"Already revoke\"}'\n"
     ]
    }
   ],
   "source": [
    "# revoke client1 cert from ca1_1\n",
    "cpb=client1_cert.public_bytes(serialization.Encoding.PEM)\n",
    "print(f\"http://127.0.0.1:{ca_ports['ca1_1']}/revoke_cert\")\n",
    "response = requests.post(f\"http://127.0.0.1:{ca_ports['ca1_1']}/revoke_cert\",files={'crt_file':cpb})\n",
    "print(response.content)"
   ]
  },
  {
   "cell_type": "code",
   "execution_count": 56,
   "metadata": {},
   "outputs": [
    {
     "name": "stdout",
     "output_type": "stream",
     "text": [
      "\n",
      "subjective: client1.com \t issuer: ca1_1\n",
      "====check revoke status for client1.com from ca1_1\n",
      "b'{\"msg\":\"Already revoke\"}'\n",
      "=====verfy cert using ca1_1 public key\n",
      "correct signature\n",
      "\n",
      "subjective: ca1_1 \t issuer: ca1\n",
      "====check revoke status for ca1_1 from ca1\n",
      "b'{\"msg\":\"Not revoke\"}'\n",
      "=====verfy cert using ca1 public key\n",
      "correct signature\n",
      "\n",
      "subjective: ca1 \t issuer: ca_root\n",
      "====check revoke status for ca1 from ca_root\n",
      "b'{\"msg\":\"Not revoke\"}'\n",
      "=====verfy cert using ca_root public key\n",
      "correct signature\n"
     ]
    }
   ],
   "source": [
    "verify_chain(client1_cert)"
   ]
  },
  {
   "cell_type": "markdown",
   "metadata": {},
   "source": [
    "# revoke ca2 cert, hierarchy"
   ]
  },
  {
   "cell_type": "code",
   "execution_count": 57,
   "metadata": {},
   "outputs": [
    {
     "name": "stdout",
     "output_type": "stream",
     "text": [
      "\n",
      "subjective: client2.com \t issuer: ca2_1\n",
      "====check revoke status for client2.com from ca2_1\n",
      "b'{\"msg\":\"Not revoke\"}'\n",
      "=====verfy cert using ca2_1 public key\n",
      "correct signature\n",
      "\n",
      "subjective: ca2_1 \t issuer: ca2\n",
      "====check revoke status for ca2_1 from ca2\n",
      "b'{\"msg\":\"Not revoke\"}'\n",
      "=====verfy cert using ca2 public key\n",
      "correct signature\n",
      "\n",
      "subjective: ca2 \t issuer: ca_root\n",
      "====check revoke status for ca2 from ca_root\n",
      "b'{\"msg\":\"Not revoke\"}'\n",
      "=====verfy cert using ca_root public key\n",
      "correct signature\n"
     ]
    }
   ],
   "source": [
    "verify_chain(client2_cert)"
   ]
  },
  {
   "cell_type": "code",
   "execution_count": 58,
   "metadata": {},
   "outputs": [
    {
     "name": "stdout",
     "output_type": "stream",
     "text": [
      "b'-----BEGIN CERTIFICATE-----\\nMIIDNjCCAh6gAwIBAgIUcRJxCqJG+NyVh1sBcmr+5p1D5mkwDQYJKoZIhvcNAQEL\\nBQAwWTELMAkGA1UEBhMCU0cxEjAQBgNVBAgMCVNpbmdhcG9yZTESMBAGA1UEBwwJ\\nU2luZ2Fwb3JlMRAwDgYDVQQKDAdjYV9yb290MRAwDgYDVQQDDAdjYV9yb290MB4X\\nDTIxMTEyNzA4MDc1NloXDTIxMTIwNzA4MDc1NlowUTELMAkGA1UEBhMCU0cxEjAQ\\nBgNVBAgMCVNpbmdhcG9yZTESMBAGA1UEBwwJU2luZ2Fwb3JlMQwwCgYDVQQKDANj\\nYTIxDDAKBgNVBAMMA2NhMjCCASIwDQYJKoZIhvcNAQEBBQADggEPADCCAQoCggEB\\nAOlmKMYghsX0tcJslz9Gca6rz3c1MSZCPGHTFcrNRAGZ9O8P5cQNk8heHccIk0G0\\ndpbxTR78DEA0jUwTlpWVPACAQlXcDwi/cjbpCN4jgeU8rMaGJ6hsSBK6OadWD5pV\\ns7LyP/mejyHR9DzM00nHuChD1/5PbirPIJVybaxNSAt8Lp9HhP1XZ0MNuGaD9T7Q\\nGuvNnFLhsTVv546C7Rp1+P4Afi4jSz2ieDVUtqxQ30w5rOGRuPmsx27D/yqd68Lt\\nENFmaivByh431XDjUj4N81rhULfWTa0emYkkuUKzeyHIyZnbfzneTdtNr+QS4SZE\\n/Ken/iIJ3Bd+Tp+7rGYo55cCAwEAATANBgkqhkiG9w0BAQsFAAOCAQEARumHmLmD\\nnrz2fIR9H4oY9qnEuYDfhkBMKmAAk6/xe6US/e0ds0HI+obe2S+r5iGi5R6rSuQL\\nk+bjI2iKrjTQtZZ0i1THLJdhKtL6SWR9GdTB+iNeZOCWhTE0BspuwBzdnSCU6AUP\\n4MydR9CgZaINXYJl52KjMBZ0bBPXDx0/6+tD0XsVqq9kZ3wsbofIGUoEVQPlTc0v\\n3/m7XRQbC2dgY6miAyPeDwvHM87Yn7ZRZi924Tf4hMuwEOfnQIRAuSbVpEH+ImGF\\nTRk/SqmoCMMWG4k/SnhGBayt5oQZPDI3MK8HqrQFZJrK0DMYrGkoEkdv/rX8r+Ml\\ntl1lpgug1GkGYA==\\n-----END CERTIFICATE-----\\n'\n"
     ]
    }
   ],
   "source": [
    "# get ca cert from ca2, the original cert\n",
    "response = requests.get(f\"http://127.0.0.1:{ca_ports['ca2']}/get_CA_cert\")\n",
    "print(response.content)"
   ]
  },
  {
   "cell_type": "code",
   "execution_count": 59,
   "metadata": {},
   "outputs": [
    {
     "name": "stdout",
     "output_type": "stream",
     "text": [
      "b'{\"msg\":\"CA cert revoked, will get new cert on next request\"}'\n"
     ]
    }
   ],
   "source": [
    "# revoke ca2 cert from ca_root\n",
    "response=requests.post(f\"http://127.0.0.1:{ca_ports['ca2']}/revoke_ca_cert\")\n",
    "print(response.content)"
   ]
  },
  {
   "cell_type": "code",
   "execution_count": 60,
   "metadata": {},
   "outputs": [
    {
     "name": "stdout",
     "output_type": "stream",
     "text": [
      "b'-----BEGIN CERTIFICATE-----\\nMIIDNjCCAh6gAwIBAgIUTlciJMHymFG60jUpyZRV7rWnflwwDQYJKoZIhvcNAQEL\\nBQAwWTELMAkGA1UEBhMCU0cxEjAQBgNVBAgMCVNpbmdhcG9yZTESMBAGA1UEBwwJ\\nU2luZ2Fwb3JlMRAwDgYDVQQKDAdjYV9yb290MRAwDgYDVQQDDAdjYV9yb290MB4X\\nDTIxMTEyNzA4MTIxNVoXDTIxMTIwNzA4MTIxNVowUTELMAkGA1UEBhMCU0cxEjAQ\\nBgNVBAgMCVNpbmdhcG9yZTESMBAGA1UEBwwJU2luZ2Fwb3JlMQwwCgYDVQQKDANj\\nYTIxDDAKBgNVBAMMA2NhMjCCASIwDQYJKoZIhvcNAQEBBQADggEPADCCAQoCggEB\\nAOlmKMYghsX0tcJslz9Gca6rz3c1MSZCPGHTFcrNRAGZ9O8P5cQNk8heHccIk0G0\\ndpbxTR78DEA0jUwTlpWVPACAQlXcDwi/cjbpCN4jgeU8rMaGJ6hsSBK6OadWD5pV\\ns7LyP/mejyHR9DzM00nHuChD1/5PbirPIJVybaxNSAt8Lp9HhP1XZ0MNuGaD9T7Q\\nGuvNnFLhsTVv546C7Rp1+P4Afi4jSz2ieDVUtqxQ30w5rOGRuPmsx27D/yqd68Lt\\nENFmaivByh431XDjUj4N81rhULfWTa0emYkkuUKzeyHIyZnbfzneTdtNr+QS4SZE\\n/Ken/iIJ3Bd+Tp+7rGYo55cCAwEAATANBgkqhkiG9w0BAQsFAAOCAQEAXzn+HAkm\\nnieBggdcekm2rqc1jmOsuSujt97IwvqbjqF46MZo50OSxlehdx3Qe4lvnn0L8wJI\\n6M+hrW87DGDZygNchb8hW7ttFhN2l9y9Ug7rYflTONzxYG4WjunIGH5Y42pSjIlU\\nuBL2mWDTQCq5g1Pn4X8vH2TPLduoiy3XTc1b9E48TJ9ZEVZ3ZqFtJ31FXJHZIFJh\\nMR7w9F3B/XLe43riirkXMuw11zHJIjL06ojLUfhPp6mDmjaihU8vn3TIHL9fAT06\\niTTdCn1wEOexWimp5RkAB0tGrDAI0kjubb7gGbPA0CnITy4I5JIjw+//q4cIJMiL\\nkRvk6WwBeD9PQA==\\n-----END CERTIFICATE-----\\n'\n"
     ]
    }
   ],
   "source": [
    "# verify again, get ca cert from ca2, the cert will different, this api will always return a cert, if delete, it will create a new one\n",
    "response = requests.get(f\"http://127.0.0.1:{ca_ports['ca2']}/get_CA_cert\")\n",
    "print(response.content)"
   ]
  },
  {
   "cell_type": "code",
   "execution_count": 61,
   "metadata": {},
   "outputs": [
    {
     "name": "stdout",
     "output_type": "stream",
     "text": [
      "\n",
      "subjective: client2.com \t issuer: ca2_1\n",
      "====check revoke status for client2.com from ca2_1\n",
      "b'{\"msg\":\"Not revoke\"}'\n",
      "=====verfy cert using ca2_1 public key\n",
      "correct signature\n",
      "\n",
      "subjective: ca2_1 \t issuer: ca2\n",
      "====check revoke status for ca2_1 from ca2\n",
      "b'{\"msg\":\"Not revoke\"}'\n",
      "=====verfy cert using ca2 public key\n",
      "correct signature\n",
      "\n",
      "subjective: ca2 \t issuer: ca_root\n",
      "====check revoke status for ca2 from ca_root\n",
      "b'{\"msg\":\"Already revoke\"}'\n",
      "=====verfy cert using ca_root public key\n",
      "correct signature\n"
     ]
    }
   ],
   "source": [
    "verify_chain(client2_cert)"
   ]
  },
  {
   "cell_type": "code",
   "execution_count": 62,
   "metadata": {},
   "outputs": [
    {
     "name": "stdout",
     "output_type": "stream",
     "text": [
      "openssl\n",
      "applicant: openssl\n",
      "issuer: ca1_1\n",
      "2021-11-27 08:13:42\n",
      "2021-12-07 08:13:42\n"
     ]
    }
   ],
   "source": [
    "# openssl req -newkey rsa:2048 -keyout PRIVATEKEY.key -out MYCSR.csr\n",
    "\n",
    "f=open('MYCSR.csr','rb')\n",
    "openssl_csr=x509.load_pem_x509_csr(f.read())\n",
    "print(openssl_csr.subject.get_attributes_for_oid(NameOID.COMMON_NAME)[0].value)\n",
    "response = requests.post(f\"http://127.0.0.1:{ca_ports['ca1_1']}/issue_cert\",files={'csr_file':openssl_csr.public_bytes(serialization.Encoding.PEM)})\n",
    "client2_cert = x509.load_pem_x509_certificate(response.content)\n",
    "print(\"applicant: \"+client2_cert.subject.get_attributes_for_oid(NameOID.COMMON_NAME)[0].value)\n",
    "print(\"issuer: \"+client2_cert.issuer.get_attributes_for_oid(NameOID.COMMON_NAME)[0].value)\n",
    "print(client2_cert.not_valid_before)\n",
    "print(client2_cert.not_valid_after)"
   ]
  }
 ],
 "metadata": {
  "interpreter": {
   "hash": "24ea8a3c866e941e66ba287182a887127fbf3ee1769e65723ba36d79c7c12a61"
  },
  "kernelspec": {
   "display_name": "Python 3.10.0 64-bit ('venv': venv)",
   "language": "python",
   "name": "python3"
  },
  "language_info": {
   "codemirror_mode": {
    "name": "ipython",
    "version": 3
   },
   "file_extension": ".py",
   "mimetype": "text/x-python",
   "name": "python",
   "nbconvert_exporter": "python",
   "pygments_lexer": "ipython3",
   "version": "3.10.0"
  },
  "orig_nbformat": 4
 },
 "nbformat": 4,
 "nbformat_minor": 2
}
