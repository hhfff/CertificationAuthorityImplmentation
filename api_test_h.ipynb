{
 "cells": [
  {
   "cell_type": "code",
   "execution_count": 14,
   "metadata": {},
   "outputs": [],
   "source": [
    "import requests\n",
    "from cryptography.hazmat.primitives import serialization\n",
    "from cryptography.hazmat.primitives.asymmetric import rsa\n",
    "from CertificationAuthority import CertificationAuthority\n",
    "from cryptography import x509\n",
    "from cryptography.x509.oid import NameOID\n",
    "from cryptography.hazmat.primitives import hashes\n",
    "import util\n"
   ]
  },
  {
   "cell_type": "code",
   "execution_count": 15,
   "metadata": {},
   "outputs": [
    {
     "name": "stdout",
     "output_type": "stream",
     "text": [
      "ca2_1: {'public_key': <cryptography.hazmat.backends.openssl.rsa._RSAPublicKey object at 0x7fba241546d0>, 'cert': <Certificate(subject=<Name(2.5.4.6=SG, 2.5.4.8=Singapore, 2.5.4.7=Singapore, 2.5.4.10=ca2_1, 2.5.4.3=ca2_1, )>, ...)>}\n",
      "ca1_1: {'public_key': <cryptography.hazmat.backends.openssl.rsa._RSAPublicKey object at 0x7fba27c4f220>, 'cert': <Certificate(subject=<Name(2.5.4.6=SG, 2.5.4.8=Singapore, 2.5.4.7=Singapore, 2.5.4.10=ca1_1, 2.5.4.3=ca1_1, )>, ...)>}\n",
      "ca2: {'public_key': <cryptography.hazmat.backends.openssl.rsa._RSAPublicKey object at 0x7fba24157dc0>, 'cert': <Certificate(subject=<Name(2.5.4.6=SG, 2.5.4.8=Singapore, 2.5.4.7=Singapore, 2.5.4.10=ca2, 2.5.4.3=ca2, )>, ...)>}\n",
      "ca1: {'public_key': <cryptography.hazmat.backends.openssl.rsa._RSAPublicKey object at 0x7fba27c4e080>, 'cert': <Certificate(subject=<Name(2.5.4.6=SG, 2.5.4.8=Singapore, 2.5.4.7=Singapore, 2.5.4.10=ca1, 2.5.4.3=ca1, )>, ...)>}\n",
      "ca_root: {'public_key': <cryptography.hazmat.backends.openssl.rsa._RSAPublicKey object at 0x7fba24156860>, 'cert': <Certificate(subject=<Name(2.5.4.6=SG, 2.5.4.8=Singapore, 2.5.4.7=Singapore, 2.5.4.10=ca_root, 2.5.4.3=ca_root, )>, ...)>}\n"
     ]
    }
   ],
   "source": [
    "ca_ports={}\n",
    "ca_ports['ca2_1']=8004\n",
    "ca_ports['ca1_1']=8003\n",
    "ca_ports['ca2']=8002\n",
    "ca_ports['ca1']=8001\n",
    "ca_ports['ca_root']=8000\n",
    "\n",
    "ca_datas={}\n",
    "def get_all_ca_pub_keys():\n",
    "    for name,port in ca_ports.items():\n",
    "        response= requests.get(f\"http://127.0.0.1:{port}/get_CA_public_key\")\n",
    "        pub_key=serialization.load_pem_public_key(response.content)\n",
    "        ca_datas[name]={}\n",
    "        ca_datas[name][\"public_key\"]=pub_key\n",
    "        response= requests.get(f\"http://127.0.0.1:{port}/get_CA_cert\")\n",
    "        cert=x509.load_pem_x509_certificate(response.content)\n",
    "        ca_datas[name]['cert']=cert\n",
    "get_all_ca_pub_keys()\n",
    "for k,v in ca_datas.items():\n",
    "    print(k+\": \"+str(v))\n",
    "\n",
    "    \n"
   ]
  },
  {
   "cell_type": "code",
   "execution_count": 16,
   "metadata": {},
   "outputs": [
    {
     "name": "stdout",
     "output_type": "stream",
     "text": [
      "applicant: client1.com\n",
      "issuer: ca1_1\n",
      "2021-11-26 01:11:25\n",
      "2021-12-06 01:11:25\n"
     ]
    }
   ],
   "source": [
    "#ca_root use port 8000\n",
    "#ca1 use port 8001\n",
    "#ca2 use port 8002\n",
    "#ca1_1 use port 8003\n",
    "#ca1_2 use port 8004\n",
    "\n",
    "# cleint 1 cert sign by root\n",
    "# 1. generate RSA key\n",
    "rsa_key=util.generate_ras_key()\n",
    "\n",
    "# 2. create certificate sign request and sign with client private key\n",
    "csr = x509.CertificateSigningRequestBuilder().subject_name(x509.Name([\n",
    "    # Provide various details about who we are.\n",
    "    x509.NameAttribute(NameOID.COUNTRY_NAME, u\"US\"),\n",
    "    x509.NameAttribute(NameOID.STATE_OR_PROVINCE_NAME, u\"California\"),\n",
    "    x509.NameAttribute(NameOID.LOCALITY_NAME, u\"San Francisco\"),\n",
    "    x509.NameAttribute(NameOID.ORGANIZATION_NAME, u\"My Company\"),\n",
    "    x509.NameAttribute(NameOID.COMMON_NAME, u\"client1.com\"),\n",
    "])).add_extension(\n",
    "    x509.SubjectAlternativeName([\n",
    "        # Describe what sites we want this certificate for.\n",
    "        x509.DNSName(u\"mysite.com\"),\n",
    "        x509.DNSName(u\"www.mysite.com\"),\n",
    "        x509.DNSName(u\"subdomain.mysite.com\"),\n",
    "    ]),\n",
    "    critical=False,\n",
    "# Sign the CSR with our private key. is applicant's private key\n",
    ").sign(rsa_key, hashes.SHA256())\n",
    "\n",
    "# 3. send to certificate authority,  the data param name corresond fastapi parameter\n",
    "response = requests.post(\" http://127.0.0.1:8003/issue_cert\",files={'csr_file':csr.public_bytes(serialization.Encoding.PEM)})\n",
    "client1_cert = x509.load_pem_x509_certificate(response.content)\n",
    "print(\"applicant: \"+client1_cert.subject.get_attributes_for_oid(NameOID.COMMON_NAME)[0].value)\n",
    "print(\"issuer: \"+client1_cert.issuer.get_attributes_for_oid(NameOID.COMMON_NAME)[0].value)\n",
    "print(client1_cert.not_valid_before)\n",
    "print(client1_cert.not_valid_after)"
   ]
  },
  {
   "cell_type": "code",
   "execution_count": 17,
   "metadata": {},
   "outputs": [
    {
     "name": "stdout",
     "output_type": "stream",
     "text": [
      "applicant: client2.com\n",
      "issuer: ca2_1\n",
      "2021-11-26 01:11:25\n",
      "2021-12-06 01:11:25\n"
     ]
    }
   ],
   "source": [
    "# cleint 2 cert sign by ca2_1\n",
    "# 1. generate RSA key\n",
    "rsa_key=util.generate_ras_key()\n",
    "\n",
    "# 2. create certificate sign request and sign with client private key\n",
    "csr = x509.CertificateSigningRequestBuilder().subject_name(x509.Name([\n",
    "    # Provide various details about who we are.\n",
    "    x509.NameAttribute(NameOID.COUNTRY_NAME, u\"US\"),\n",
    "    x509.NameAttribute(NameOID.STATE_OR_PROVINCE_NAME, u\"California\"),\n",
    "    x509.NameAttribute(NameOID.LOCALITY_NAME, u\"San Francisco\"),\n",
    "    x509.NameAttribute(NameOID.ORGANIZATION_NAME, u\"My Company\"),\n",
    "    x509.NameAttribute(NameOID.COMMON_NAME, u\"client2.com\"),\n",
    "])).add_extension(\n",
    "    x509.SubjectAlternativeName([\n",
    "        # Describe what sites we want this certificate for.\n",
    "        x509.DNSName(u\"mysite.com\"),\n",
    "        x509.DNSName(u\"www.mysite.com\"),\n",
    "        x509.DNSName(u\"subdomain.mysite.com\"),\n",
    "    ]),\n",
    "    critical=False,\n",
    "# Sign the CSR with our private key. is applicant's private key\n",
    ").sign(rsa_key, hashes.SHA256())\n",
    "\n",
    "# 3. send to certificate authority,  the data param name corresond fastapi parameter\n",
    "## notice here port is 8001\n",
    "response = requests.post(f\"http://127.0.0.1:{ca_ports['ca2_1']}/issue_cert\",files={'csr_file':csr.public_bytes(serialization.Encoding.PEM)})\n",
    "client2_cert = x509.load_pem_x509_certificate(response.content)\n",
    "print(\"applicant: \"+client2_cert.subject.get_attributes_for_oid(NameOID.COMMON_NAME)[0].value)\n",
    "print(\"issuer: \"+client2_cert.issuer.get_attributes_for_oid(NameOID.COMMON_NAME)[0].value)\n",
    "print(client2_cert.not_valid_before)\n",
    "print(client2_cert.not_valid_after)"
   ]
  },
  {
   "cell_type": "code",
   "execution_count": 18,
   "metadata": {},
   "outputs": [
    {
     "name": "stdout",
     "output_type": "stream",
     "text": [
      "\n",
      "subjective: client1.com \t issuer: ca1_1\n",
      "====check revoke status for client1.com from ca1_1\n",
      "http://127.0.0.1:8003/revoke_cert_status\n",
      "b'{\"msg\":\"Not revoke\"}'\n",
      "=====verfy cert using ca1_1 public key\n",
      "correct signature\n",
      "\n",
      "subjective: ca1_1 \t issuer: ca1\n",
      "====check revoke status for ca1_1 from ca1\n",
      "http://127.0.0.1:8001/revoke_cert_status\n",
      "b'{\"msg\":\"Not revoke\"}'\n",
      "=====verfy cert using ca1 public key\n",
      "correct signature\n",
      "\n",
      "subjective: ca1 \t issuer: ca_root\n",
      "====check revoke status for ca1 from ca_root\n",
      "http://127.0.0.1:8000/revoke_cert_status\n",
      "b'{\"msg\":\"Not revoke\"}'\n",
      "=====verfy cert using ca_root public key\n",
      "correct signature\n"
     ]
    }
   ],
   "source": [
    "#verify chain\n",
    "def verify_chain(cur_cert):\n",
    "    while True:\n",
    "        #eg, ca1_1\n",
    "        subjective=cur_cert.subject.get_attributes_for_oid(NameOID.COMMON_NAME)[0].value\n",
    "        issuer_commonName=cur_cert.issuer.get_attributes_for_oid(NameOID.COMMON_NAME)[0].value\n",
    "        print(f\"\\nsubjective: {subjective} \\t issuer: {issuer_commonName}\")\n",
    "        print(f\"====check revoke status for {subjective} from {issuer_commonName}\")\n",
    "        print(f\"http://127.0.0.1:{ca_ports[issuer_commonName]}/revoke_cert_status\")\n",
    "        response = requests.get(f\"http://127.0.0.1:{ca_ports[issuer_commonName]}/revoke_cert_status\",files={'crt_file':cur_cert.public_bytes(serialization.Encoding.PEM)})\n",
    "        print(response.content)\n",
    "        print(f\"=====verfy cert using {issuer_commonName} public key\")\n",
    "        pub_key=ca_datas[issuer_commonName]['public_key']\n",
    "        status=util.verify_cert_signature(cur_cert,pub_key)\n",
    "        if status:\n",
    "            print(\"correct signature\")\n",
    "        else:\n",
    "            print(\"XXX wrong signaure XXX\")\n",
    "        if issuer_commonName=='ca_root':\n",
    "            break\n",
    "        \n",
    "        cur_cert=ca_datas[issuer_commonName]['cert']\n",
    "verify_chain(client1_cert)"
   ]
  },
  {
   "cell_type": "code",
   "execution_count": 19,
   "metadata": {},
   "outputs": [
    {
     "name": "stdout",
     "output_type": "stream",
     "text": [
      "b'{\"msg\":\"The certificate was not issue by this server, the issuer is ca2_1\"}'\n"
     ]
    }
   ],
   "source": [
    "# revoke client2 cert from ca1_1, will fail because not issue by it\n",
    "cpb=client2_cert.public_bytes(serialization.Encoding.PEM)\n",
    "response = requests.post(f\"http://127.0.0.1:{ca_ports['ca1_1']}/revoke_cert\",files={'crt_file':cpb})\n",
    "print(response.content)\n"
   ]
  },
  {
   "cell_type": "code",
   "execution_count": null,
   "metadata": {},
   "outputs": [],
   "source": []
  },
  {
   "cell_type": "code",
   "execution_count": 20,
   "metadata": {},
   "outputs": [
    {
     "name": "stdout",
     "output_type": "stream",
     "text": [
      "http://127.0.0.1:8003/revoke_cert\n",
      "b'{\"msg\":\"Revoke successful\"}'\n"
     ]
    }
   ],
   "source": [
    "# revoke client1 cert from ca1_1\n",
    "cpb=client1_cert.public_bytes(serialization.Encoding.PEM)\n",
    "print(f\"http://127.0.0.1:{ca_ports['ca1_1']}/revoke_cert\")\n",
    "response = requests.post(f\"http://127.0.0.1:{ca_ports['ca1_1']}/revoke_cert\",files={'crt_file':cpb})\n",
    "print(response.content)"
   ]
  },
  {
   "cell_type": "code",
   "execution_count": null,
   "metadata": {},
   "outputs": [],
   "source": []
  },
  {
   "cell_type": "code",
   "execution_count": 21,
   "metadata": {},
   "outputs": [
    {
     "name": "stdout",
     "output_type": "stream",
     "text": [
      "\n",
      "subjective: client1.com \t issuer: ca1_1\n",
      "====check revoke status for client1.com from ca1_1\n",
      "http://127.0.0.1:8003/revoke_cert_status\n",
      "b'{\"msg\":\"Already revoke\"}'\n",
      "=====verfy cert using ca1_1 public key\n",
      "correct signature\n",
      "\n",
      "subjective: ca1_1 \t issuer: ca1\n",
      "====check revoke status for ca1_1 from ca1\n",
      "http://127.0.0.1:8001/revoke_cert_status\n",
      "b'{\"msg\":\"Not revoke\"}'\n",
      "=====verfy cert using ca1 public key\n",
      "correct signature\n",
      "\n",
      "subjective: ca1 \t issuer: ca_root\n",
      "====check revoke status for ca1 from ca_root\n",
      "http://127.0.0.1:8000/revoke_cert_status\n",
      "b'{\"msg\":\"Not revoke\"}'\n",
      "=====verfy cert using ca_root public key\n",
      "correct signature\n"
     ]
    }
   ],
   "source": [
    "verify_chain(client1_cert)\n",
    "\n"
   ]
  },
  {
   "cell_type": "code",
   "execution_count": 22,
   "metadata": {},
   "outputs": [
    {
     "name": "stdout",
     "output_type": "stream",
     "text": [
      "\n",
      "subjective: client2.com \t issuer: ca2_1\n",
      "====check revoke status for client2.com from ca2_1\n",
      "http://127.0.0.1:8004/revoke_cert_status\n",
      "b'{\"msg\":\"Not revoke\"}'\n",
      "=====verfy cert using ca2_1 public key\n",
      "correct signature\n",
      "\n",
      "subjective: ca2_1 \t issuer: ca2\n",
      "====check revoke status for ca2_1 from ca2\n",
      "http://127.0.0.1:8002/revoke_cert_status\n",
      "b'{\"msg\":\"Not revoke\"}'\n",
      "=====verfy cert using ca2 public key\n",
      "correct signature\n",
      "\n",
      "subjective: ca2 \t issuer: ca_root\n",
      "====check revoke status for ca2 from ca_root\n",
      "http://127.0.0.1:8000/revoke_cert_status\n",
      "b'{\"msg\":\"Not revoke\"}'\n",
      "=====verfy cert using ca_root public key\n",
      "correct signature\n"
     ]
    }
   ],
   "source": [
    "verify_chain(client2_cert)"
   ]
  },
  {
   "cell_type": "code",
   "execution_count": 23,
   "metadata": {},
   "outputs": [
    {
     "name": "stdout",
     "output_type": "stream",
     "text": [
      "b'-----BEGIN CERTIFICATE-----\\nMIIDNjCCAh6gAwIBAgIUStavnYFcy8yg2mz4/CKwJMH7XdkwDQYJKoZIhvcNAQEL\\nBQAwWTELMAkGA1UEBhMCU0cxEjAQBgNVBAgMCVNpbmdhcG9yZTESMBAGA1UEBwwJ\\nU2luZ2Fwb3JlMRAwDgYDVQQKDAdjYV9yb290MRAwDgYDVQQDDAdjYV9yb290MB4X\\nDTIxMTEyNjAxMTA1M1oXDTIxMTIwNjAxMTA1M1owUTELMAkGA1UEBhMCU0cxEjAQ\\nBgNVBAgMCVNpbmdhcG9yZTESMBAGA1UEBwwJU2luZ2Fwb3JlMQwwCgYDVQQKDANj\\nYTIxDDAKBgNVBAMMA2NhMjCCASIwDQYJKoZIhvcNAQEBBQADggEPADCCAQoCggEB\\nAN+QYcek2MlL/vgUN/QfK6h5SI958zRl0e3KcS3O981la+a0rVJ9d6QsQHAusj/x\\nFV48w/sKVmLG5a4dE0oKCJTFB/wqdZiFCm3o9aabuPDJnnxlm8kxV5WI1GwwR9Uc\\nBNvwaJ2C6n1DUTvKjhYQJWt+odmkeENtn/J0txsgUk0dGQeR7k1urgO9SxpT4m+D\\nDv8LLQC+nxwZNOhSCWICy/OVg4tYybcTuTgtwOciagPHKG4cg/CsnWmnuallwtYn\\n8yMdGhRJEHyWdDlcnwbiyspNRe3l4o8rrPZ2kaOe4vmHqBYOW/CeKmgCxClLylD7\\nSWVK8vYxyFmCIDAtoDY+pGsCAwEAATANBgkqhkiG9w0BAQsFAAOCAQEAS1lBc5W6\\nDb3dD/nz049YuPXehx9HIwJtS9GT6+ZxwKesEqiwDr1DaSSko2PwQGUbjH59Kzuu\\nCZLfmrX61Mk2dEOLZEpLlLFK7QA7H9giVXvR0XPhEkPN/9VqeB7CzY6akNOKvtBx\\nHw+HWZtcm5RZmn+P49INFvvajNGgxGs4UfKGmOQV03QdKuPvun51Avk9sxTlQbXN\\nkYzKxNOeby5AURHXdRHeBPbHuyjgsSvMXoKMk/0koUrn7BkUF9BHq+friFYQS3oI\\nOlbQi6FF1Cq/owhgQTUQMad+UgujVrr6+74Uo3hzkAiCeWbBtCT1PE68DTAehGJF\\n21tQFgj/YQX6ew==\\n-----END CERTIFICATE-----\\n'\n"
     ]
    }
   ],
   "source": [
    "# get ca cert from ca2, the original cert\n",
    "response = requests.get(f\"http://127.0.0.1:{ca_ports['ca2']}/get_CA_cert\")\n",
    "print(response.content)"
   ]
  },
  {
   "cell_type": "code",
   "execution_count": 24,
   "metadata": {},
   "outputs": [
    {
     "name": "stdout",
     "output_type": "stream",
     "text": [
      "b'{\"msg\":\"CA cert revoked, will get new cert on next request\"}'\n"
     ]
    }
   ],
   "source": [
    "# revoke ca2 cert from ca_root\n",
    "response=requests.post(f\"http://127.0.0.1:{ca_ports['ca2']}/revoke_ca_cert\")\n",
    "print(response.content)"
   ]
  },
  {
   "cell_type": "code",
   "execution_count": 25,
   "metadata": {},
   "outputs": [
    {
     "name": "stdout",
     "output_type": "stream",
     "text": [
      "b'-----BEGIN CERTIFICATE-----\\nMIIDNjCCAh6gAwIBAgIUN/X7A7LU3imU++Reoi7vv/gPAUwwDQYJKoZIhvcNAQEL\\nBQAwWTELMAkGA1UEBhMCU0cxEjAQBgNVBAgMCVNpbmdhcG9yZTESMBAGA1UEBwwJ\\nU2luZ2Fwb3JlMRAwDgYDVQQKDAdjYV9yb290MRAwDgYDVQQDDAdjYV9yb290MB4X\\nDTIxMTEyNjAxMTEyNloXDTIxMTIwNjAxMTEyNlowUTELMAkGA1UEBhMCU0cxEjAQ\\nBgNVBAgMCVNpbmdhcG9yZTESMBAGA1UEBwwJU2luZ2Fwb3JlMQwwCgYDVQQKDANj\\nYTIxDDAKBgNVBAMMA2NhMjCCASIwDQYJKoZIhvcNAQEBBQADggEPADCCAQoCggEB\\nAN+QYcek2MlL/vgUN/QfK6h5SI958zRl0e3KcS3O981la+a0rVJ9d6QsQHAusj/x\\nFV48w/sKVmLG5a4dE0oKCJTFB/wqdZiFCm3o9aabuPDJnnxlm8kxV5WI1GwwR9Uc\\nBNvwaJ2C6n1DUTvKjhYQJWt+odmkeENtn/J0txsgUk0dGQeR7k1urgO9SxpT4m+D\\nDv8LLQC+nxwZNOhSCWICy/OVg4tYybcTuTgtwOciagPHKG4cg/CsnWmnuallwtYn\\n8yMdGhRJEHyWdDlcnwbiyspNRe3l4o8rrPZ2kaOe4vmHqBYOW/CeKmgCxClLylD7\\nSWVK8vYxyFmCIDAtoDY+pGsCAwEAATANBgkqhkiG9w0BAQsFAAOCAQEAeWEzlpgA\\nHQbd3ZGAN/UX0WhLWQNRUZjaNyODt2I8SL2HX4uu+TbDXtiCXlK8KtGpu27Jyfwq\\ngpLSc/sTPa6kBG34DSLiOKjBU0W/YvG31b1Lyr7WKE/077qSCPZoeGX5Pp5pwIDR\\njD7c84ItTSqZJufYp2Pz4uVxJKxPCAdG/+d0lpb1JKviYmD9TL8ya2BTwPxt28+0\\n4713sitGrHjCWwo0uQe4yC9bkhZzALdzC3h0O5eWgIvstqYP7WyqjlGpVNegelrv\\nIJ6yqrKKQOLnsq5QALMRiFJvcQ6q/h/adlhsu++4uS/jClbiK+EJZdMVaPgfBn3O\\ngzwroRFtotoUwg==\\n-----END CERTIFICATE-----\\n'\n"
     ]
    }
   ],
   "source": [
    "# verify again, get ca cert from ca2, the cert will different, this api will always return a cert, if delete, it will create a new one\n",
    "response = requests.get(f\"http://127.0.0.1:{ca_ports['ca2']}/get_CA_cert\")\n",
    "print(response.content)"
   ]
  },
  {
   "cell_type": "code",
   "execution_count": 26,
   "metadata": {},
   "outputs": [
    {
     "name": "stdout",
     "output_type": "stream",
     "text": [
      "\n",
      "subjective: client2.com \t issuer: ca2_1\n",
      "====check revoke status for client2.com from ca2_1\n",
      "http://127.0.0.1:8004/revoke_cert_status\n",
      "b'{\"msg\":\"Not revoke\"}'\n",
      "=====verfy cert using ca2_1 public key\n",
      "correct signature\n",
      "\n",
      "subjective: ca2_1 \t issuer: ca2\n",
      "====check revoke status for ca2_1 from ca2\n",
      "http://127.0.0.1:8002/revoke_cert_status\n",
      "b'{\"msg\":\"Not revoke\"}'\n",
      "=====verfy cert using ca2 public key\n",
      "correct signature\n",
      "\n",
      "subjective: ca2 \t issuer: ca_root\n",
      "====check revoke status for ca2 from ca_root\n",
      "http://127.0.0.1:8000/revoke_cert_status\n",
      "b'{\"msg\":\"Already revoke\"}'\n",
      "=====verfy cert using ca_root public key\n",
      "correct signature\n"
     ]
    }
   ],
   "source": [
    "verify_chain(client2_cert)"
   ]
  },
  {
   "cell_type": "code",
   "execution_count": 29,
   "metadata": {},
   "outputs": [
    {
     "name": "stdout",
     "output_type": "stream",
     "text": [
      "openssl\n",
      "applicant: openssl\n",
      "issuer: ca1_1\n",
      "2021-11-26 02:01:35\n",
      "2021-12-06 02:01:35\n"
     ]
    }
   ],
   "source": [
    "# openssl req -newkey rsa:2048 -keyout PRIVATEKEY.key -out MYCSR.csr\n",
    "\n",
    "f=open('MYCSR.csr','rb')\n",
    "openssl_csr=x509.load_pem_x509_csr(f.read())\n",
    "print(openssl_csr.subject.get_attributes_for_oid(NameOID.COMMON_NAME)[0].value)\n",
    "response = requests.post(f\"http://127.0.0.1:{ca_ports['ca1_1']}/issue_cert\",files={'csr_file':openssl_csr.public_bytes(serialization.Encoding.PEM)})\n",
    "client2_cert = x509.load_pem_x509_certificate(response.content)\n",
    "print(\"applicant: \"+client2_cert.subject.get_attributes_for_oid(NameOID.COMMON_NAME)[0].value)\n",
    "print(\"issuer: \"+client2_cert.issuer.get_attributes_for_oid(NameOID.COMMON_NAME)[0].value)\n",
    "print(client2_cert.not_valid_before)\n",
    "print(client2_cert.not_valid_after)"
   ]
  }
 ],
 "metadata": {
  "interpreter": {
   "hash": "24ea8a3c866e941e66ba287182a887127fbf3ee1769e65723ba36d79c7c12a61"
  },
  "kernelspec": {
   "display_name": "Python 3.10.0 64-bit ('venv': venv)",
   "language": "python",
   "name": "python3"
  },
  "language_info": {
   "codemirror_mode": {
    "name": "ipython",
    "version": 3
   },
   "file_extension": ".py",
   "mimetype": "text/x-python",
   "name": "python",
   "nbconvert_exporter": "python",
   "pygments_lexer": "ipython3",
   "version": "3.10.0"
  },
  "orig_nbformat": 4
 },
 "nbformat": 4,
 "nbformat_minor": 2
}
