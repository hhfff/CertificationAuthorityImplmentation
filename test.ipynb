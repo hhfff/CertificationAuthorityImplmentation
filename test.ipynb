{
 "cells": [
  {
   "cell_type": "code",
   "execution_count": 1,
   "metadata": {},
   "outputs": [],
   "source": [
    "import requests\n",
    "from cryptography.hazmat.primitives.asymmetric import rsa\n",
    "from cryptography.hazmat.primitives import serialization\n",
    "from cryptography.hazmat.primitives.asymmetric import rsa\n",
    "from CertificationAuthority import CertificationAuthority\n",
    "import datetime\n",
    "import util\n",
    "import os\n",
    "from cryptography import exceptions, x509\n",
    "from cryptography.x509.oid import NameOID\n",
    "from cryptography.hazmat.primitives import hashes"
   ]
  },
  {
   "cell_type": "code",
   "execution_count": 2,
   "metadata": {},
   "outputs": [],
   "source": [
    "# create 2 root server\n",
    "ca1=CertificationAuthority('ca1')\n",
    "ca2=CertificationAuthority('ca2')"
   ]
  },
  {
   "cell_type": "code",
   "execution_count": 3,
   "metadata": {},
   "outputs": [],
   "source": [
    "# create client 1 's certificate sign request and rsa key \n",
    "rsa_key=util.generate_ras_key()\n",
    "rsa_key.public_key()\n",
    "csr = x509.CertificateSigningRequestBuilder().subject_name(x509.Name([\n",
    "    # Provide various details about who we are.\n",
    "    x509.NameAttribute(NameOID.COUNTRY_NAME, u\"US\"),\n",
    "    x509.NameAttribute(NameOID.STATE_OR_PROVINCE_NAME, u\"California\"),\n",
    "    x509.NameAttribute(NameOID.LOCALITY_NAME, u\"San Francisco\"),\n",
    "    x509.NameAttribute(NameOID.ORGANIZATION_NAME, u\"My Company\"),\n",
    "    x509.NameAttribute(NameOID.COMMON_NAME, u\"client1.com\"),\n",
    "])).add_extension(\n",
    "    x509.SubjectAlternativeName([\n",
    "        # Describe what sites we want this certificate for.\n",
    "        x509.DNSName(u\"mysite.com\"),\n",
    "        x509.DNSName(u\"www.mysite.com\"),\n",
    "        x509.DNSName(u\"subdomain.mysite.com\"),\n",
    "    ]),\n",
    "    critical=False,\n",
    "# Sign the CSR with our private key. is applicant private key\n",
    ").sign(rsa_key, hashes.SHA256())"
   ]
  },
  {
   "cell_type": "code",
   "execution_count": 4,
   "metadata": {},
   "outputs": [
    {
     "name": "stdout",
     "output_type": "stream",
     "text": [
      "b'-----BEGIN CERTIFICATE-----\\nMIIDQjCCAiqgAwIBAgIUbKMUPDEIJM4FelJCHHjG5oy39NkwDQYJKoZIhvcNAQEL\\nBQAwUTELMAkGA1UEBhMCU0cxEjAQBgNVBAgMCVNpbmdhcG9yZTESMBAGA1UEBwwJ\\nU2luZ2Fwb3JlMQwwCgYDVQQKDANjYTExDDAKBgNVBAMMA2NhMTAeFw0yMTExMjQw\\nNjU4NThaFw0yMTEyMDQwNjU4NThaMGUxCzAJBgNVBAYTAlVTMRMwEQYDVQQIDApD\\nYWxpZm9ybmlhMRYwFAYDVQQHDA1TYW4gRnJhbmNpc2NvMRMwEQYDVQQKDApNeSBD\\nb21wYW55MRQwEgYDVQQDDAtjbGllbnQxLmNvbTCCASIwDQYJKoZIhvcNAQEBBQAD\\nggEPADCCAQoCggEBAM8KEMtMEbktOmP36f38VjarW6k95IV5qW6wobGrgTZTV3Ur\\nE0QwZnQXx3tp869dSfgWad6APd45Zrx35dOyQ1Am1TR5ugU8QGqoW3ikLrkjbHMG\\nurn5DC7qw99Rnn3AkMo3JljKNTD1zE5j6KKeHUl27W3YH6d4zhjBZ8vm9iJKkReU\\n5a90XXzua8rGZ20yU5M/eFPvO6OzJPnOTjhJBPtlS/9iNAKA6eWHuuOPmwrTVaNt\\nHMLDfR1AseAB+fK9tqHVI3l+m7WjmyXx4aKgjEzc13BpdqOIqOzy8GkmGNnkAsm1\\ndZvW1UCyKJ/1Lxjd2Bvkx0I7gV85u5gdSsLQbXUCAwEAATANBgkqhkiG9w0BAQsF\\nAAOCAQEAZDIYZnx6wfbUAZpv0hJPWKuzo9uLSqz62GDQzqcN7e0UQ5IxRee+2Yes\\n1v5JdvQOKke0fINpFCfSaLTHl8uTq+zfasfjsuUv12e7OoWNgxKLi81EUCcQo0rG\\nCRwBwfPm2ahvT4Mpcr0+tvQXTeX12v4CDIOV67cm1xO4tgAQ+ZfYLKPSseHWN9J2\\nGtt2Zuwf/73VVL3k2aANMWTHGThZ6yugZTQOeg/V4IPPysil8HZ5X7GMc6oBrW8e\\naVPKVkmoAkYM05XdrUMVUgaTSnMC9EKZ2ZMl47rvrJObEmB4hSheDZHXruqDfhrR\\npOkaEBFULeGT3rgAteEdR9TkK0rgfg==\\n-----END CERTIFICATE-----\\n'\n"
     ]
    }
   ],
   "source": [
    "# get cert from ca1\n",
    "cert_pub=ca1.issue_certificate(csr)\n",
    "print(cert_pub)"
   ]
  },
  {
   "cell_type": "code",
   "execution_count": 7,
   "metadata": {},
   "outputs": [
    {
     "name": "stdout",
     "output_type": "stream",
     "text": [
      "======cert info========\n",
      "applicant/subject: client1.com\n",
      "issuer: ca1\n",
      "2021-11-24 06:58:58\n",
      "2021-12-04 06:58:58\n",
      "=====verify signature========\n",
      "validate: True\n"
     ]
    }
   ],
   "source": [
    "#reconstruct from cert public byte\n",
    "cert = x509.load_pem_x509_certificate(cert_pub)\n",
    "# info of cert\n",
    "print(\"======cert info========\")\n",
    "print(\"applicant/subject: \"+cert.subject.get_attributes_for_oid(NameOID.COMMON_NAME)[0].value)\n",
    "print(\"issuer: \"+cert.issuer.get_attributes_for_oid(NameOID.COMMON_NAME)[0].value)\n",
    "print(cert.not_valid_before)\n",
    "print(cert.not_valid_after)\n",
    "\n",
    "# verify signature\n",
    "print('=====verify signature========')\n",
    "ca_public_key=serialization.load_pem_public_key(ca1.get_public_key())\n",
    "print(\"validate: \"+ str(util.verify_cert_signature(cert,ca_public_key)))"
   ]
  },
  {
   "cell_type": "code",
   "execution_count": null,
   "metadata": {},
   "outputs": [],
   "source": [
    "# ca1 issue cert revoke from ca2\n",
    "\n",
    "# verify chain"
   ]
  }
 ],
 "metadata": {
  "interpreter": {
   "hash": "24ea8a3c866e941e66ba287182a887127fbf3ee1769e65723ba36d79c7c12a61"
  },
  "kernelspec": {
   "display_name": "Python 3.10.0 64-bit ('venv': venv)",
   "language": "python",
   "name": "python3"
  },
  "language_info": {
   "codemirror_mode": {
    "name": "ipython",
    "version": 3
   },
   "file_extension": ".py",
   "mimetype": "text/x-python",
   "name": "python",
   "nbconvert_exporter": "python",
   "pygments_lexer": "ipython3",
   "version": "3.10.0"
  },
  "orig_nbformat": 4
 },
 "nbformat": 4,
 "nbformat_minor": 2
}
