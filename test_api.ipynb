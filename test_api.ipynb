{
 "cells": [
  {
   "cell_type": "code",
   "execution_count": null,
   "metadata": {},
   "outputs": [],
   "source": [
    "import requests\n",
    "from cryptography.hazmat.primitives.asymmetric import rsa\n",
    "from cryptography.hazmat.primitives import serialization\n",
    "from cryptography.hazmat.primitives.asymmetric import rsa\n",
    "from CertificationAuthority import CertificationAuthority\n",
    "import datetime\n",
    "import util\n",
    "import os\n",
    "from cryptography import exceptions, x509\n",
    "from cryptography.x509.oid import NameOID\n",
    "from cryptography.hazmat.primitives import hashes"
   ]
  },
  {
   "cell_type": "code",
   "execution_count": null,
   "metadata": {},
   "outputs": [],
   "source": [
    "# get cert from ca1_1, verfy signature\n",
    "#veryf chain: from get noid commin name,  ca1->127.0.0.1:8001, get pub key , very, get cert repeat (write function)\n",
    "# revoke cert\n",
    "#revoke ca1_1 issue cert from ca1 \n",
    "\n",
    "#get cert from ca2_2, verfy signature\n",
    "# revoke ca2 cert from ca_root\n",
    "#veryf chain, will fail on ca2 since its cert was revok\n",
    "\n",
    "\n",
    "# \n"
   ]
  }
 ],
 "metadata": {
  "language_info": {
   "name": "python"
  },
  "orig_nbformat": 4
 },
 "nbformat": 4,
 "nbformat_minor": 2
}
